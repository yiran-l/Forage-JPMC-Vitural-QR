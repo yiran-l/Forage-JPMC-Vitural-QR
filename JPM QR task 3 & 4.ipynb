{
 "cells": [
  {
   "cell_type": "code",
   "execution_count": 14,
   "id": "initial_id",
   "metadata": {
    "ExecuteTime": {
     "end_time": "2023-09-27T23:01:29.337715Z",
     "start_time": "2023-09-27T23:01:27.940600900Z"
    },
    "collapsed": true,
    "jupyter": {
     "outputs_hidden": true
    }
   },
   "outputs": [],
   "source": [
    "import pandas as pd\n",
    "import numpy as np\n",
    "import matplotlib.pyplot as plt\n",
    "from sklearn.model_selection import train_test_split\n",
    "from sklearn.preprocessing import StandardScaler\n",
    "from sklearn.ensemble import RandomForestClassifier\n",
    "from sklearn.metrics import roc_auc_score"
   ]
  },
  {
   "cell_type": "markdown",
   "id": "1cbf5f2d",
   "metadata": {},
   "source": [
    "## Credit Risk Analysis"
   ]
  },
  {
   "cell_type": "markdown",
   "id": "3d7e7f72",
   "metadata": {},
   "source": [
    "### Get to know the data"
   ]
  },
  {
   "cell_type": "code",
   "execution_count": 15,
   "id": "bab3a4d6ca0fa7df",
   "metadata": {
    "ExecuteTime": {
     "end_time": "2023-09-27T23:01:29.353747200Z",
     "start_time": "2023-09-27T23:01:29.339710500Z"
    },
    "collapsed": false
   },
   "outputs": [
    {
     "name": "stdout",
     "output_type": "stream",
     "text": [
      "<class 'pandas.core.frame.DataFrame'>\n",
      "RangeIndex: 10000 entries, 0 to 9999\n",
      "Data columns (total 8 columns):\n",
      " #   Column                    Non-Null Count  Dtype  \n",
      "---  ------                    --------------  -----  \n",
      " 0   customer_id               10000 non-null  int64  \n",
      " 1   credit_lines_outstanding  10000 non-null  int64  \n",
      " 2   loan_amt_outstanding      10000 non-null  float64\n",
      " 3   total_debt_outstanding    10000 non-null  float64\n",
      " 4   income                    10000 non-null  float64\n",
      " 5   years_employed            10000 non-null  int64  \n",
      " 6   fico_score                10000 non-null  int64  \n",
      " 7   default                   10000 non-null  int64  \n",
      "dtypes: float64(3), int64(5)\n",
      "memory usage: 625.1 KB\n"
     ]
    }
   ],
   "source": [
    "loan = pd.read_csv('Task 3 and 4_Loan_Data.csv')\n",
    "loan.info()"
   ]
  },
  {
   "cell_type": "markdown",
   "id": "697f2c46",
   "metadata": {},
   "source": [
    "### Train Test split \n",
    "1. The task assumes the Recovery rate at 10%.\n",
    "2. Split the data into train, test sets. The data contains 10000 entries with 8 columns, for such size of data, there are two validation method:\n",
    "    - Train/validation/test split\n",
    "    - K-fold cross validation\n",
    "3. I choose to use k-fold cross validation instead of a validation set in order to lose data to a validation set. "
   ]
  },
  {
   "cell_type": "code",
   "execution_count": 16,
   "id": "3a6f51a0b01227f9",
   "metadata": {
    "ExecuteTime": {
     "end_time": "2023-09-27T23:01:29.436764700Z",
     "start_time": "2023-09-27T23:01:29.371188Z"
    },
    "collapsed": false
   },
   "outputs": [],
   "source": [
    "recoverRate = 0.1"
   ]
  },
  {
   "cell_type": "code",
   "execution_count": 17,
   "id": "681c69c2afc9d33",
   "metadata": {
    "ExecuteTime": {
     "end_time": "2023-09-27T23:01:29.462405500Z",
     "start_time": "2023-09-27T23:01:29.425797200Z"
    },
    "collapsed": false
   },
   "outputs": [],
   "source": [
    "#1. spliting the data into train and test data: using 60/40 -- 60% training & 40% \n",
    "X = loan.drop(['default'], axis=1)\n",
    "y = loan['default'] # Target variable: default (1 if defaulted, 0 otherwise)\n",
    "\n",
    "#spliting data into training and testing sets\n",
    "Xtrain, Xtest, ytrain, ytest = train_test_split(X, y, test_size= 0.4, random_state=34) \n"
   ]
  },
  {
   "cell_type": "markdown",
   "id": "3ee26af2",
   "metadata": {},
   "source": [
    "### Standardization\n",
    "Purpose of standardization: \n",
    "1. Feature standardization: \n",
    "    - mean centering\n",
    "    - scaling to unit variance\n",
    "2. improving algo performance \n",
    "3. Equal contribution with each feature "
   ]
  },
  {
   "cell_type": "code",
   "execution_count": 18,
   "id": "d19dd609",
   "metadata": {},
   "outputs": [],
   "source": [
    "scaler = StandardScaler()\n",
    "xtrain_scaled = scaler.fit_transform(Xtrain)\n",
    "xtest_scaled = scaler.transform(Xtest)"
   ]
  },
  {
   "cell_type": "code",
   "execution_count": 19,
   "id": "67042a75cd7a73d6",
   "metadata": {
    "ExecuteTime": {
     "end_time": "2023-09-27T23:01:29.494790200Z",
     "start_time": "2023-09-27T23:01:29.448760500Z"
    },
    "collapsed": false
   },
   "outputs": [
    {
     "name": "stdout",
     "output_type": "stream",
     "text": [
      "[[ 0.99575889 -0.25665542 -0.45989617 ... -0.09892904  0.29460452\n",
      "   0.42742093]\n",
      " [ 1.34208885 -0.82976019  0.45617466 ...  0.68214917 -0.3439891\n",
      "   1.10305064]\n",
      " [-0.4741853  -0.25665542  0.81942656 ...  0.73755359  0.29460452\n",
      "   0.92178413]\n",
      " ...\n",
      " [-1.42944407 -0.82976019 -1.36912535 ... -1.75157641 -0.3439891\n",
      "  -0.74257198]\n",
      " [-1.5324172  -0.25665542  1.15293777 ...  1.40989687  0.93319814\n",
      "   0.32854829]\n",
      " [-1.3045757  -0.82976019  0.06813382 ...  0.39881893  0.93319814\n",
      "   1.69628648]]\n"
     ]
    }
   ],
   "source": [
    "print(xtrain_scaled) #scaled training data"
   ]
  },
  {
   "cell_type": "markdown",
   "id": "0510b044",
   "metadata": {},
   "source": [
    "Performance Evaluation: \n",
    "- Classification: \n",
    "    1. ROC_AUC(Receiver Operating Characteristic - Area Under the Curve): \n",
    "        - Suitable for binary classification tasks, especially when you need to evaluate the model’s performance across all thresholds.\n",
    "        - Pros: \n",
    "            - comprehensive evaluation: evaluates model's performance across all possible classification thresholds, where other metrics such as accuracy, precision or recall, depend on specific threshold. \n",
    "            - robust to imbalanced classes: considers trade-off between true positive rate(recall) and false postive rate, providing a more balanced evaluation, where accuracy can be misleading if one class is much more frequent than the other. \n",
    "            - Captures trade-offs: ROC plots true positive rate(recall) against the false positive rate, capturing the trade-offs between corretly idetntifying positive instances and incorretly identifying negative instances. AUC qualifies the trade-off.\n",
    "            - good for imbalanced datasets. \n",
    "        - Cons: \n",
    "            - Not as informative in multi-class classification without adaptation.\n",
    "            - Can be less intuitive than precision and recall for some users.\n",
    "    2. Confusion Matrix: \n",
    "        - to get a detailed breakdown of prediction results, especially for binary and multiclass classification problems. \n",
    "        - Pros:\n",
    "            - Provides a complete picture of classification performance.\n",
    "            - Helps identify specific types of errors (false positives vs. false negatives).\n",
    "        - Cons:\n",
    "            - Not a single summary metric; needs to be interpreted alongside other metrics.\n",
    "    3. Precision, Recall, F1 score: \n",
    "        - particulary useful in imbalanced datasets where one class is more important than the other\n",
    "        - Precision:\n",
    "            - Pros: Focuses on the quality of positive predictions.\n",
    "            - Cons: Can be misleading if the model is predicting very few positives.\n",
    "        - Recall:\n",
    "            - Pros: Focuses on capturing all relevant positive instances.\n",
    "            - Cons: Can be misleading if it’s very high but the precision is very low.\n",
    "        - F1-Score:\n",
    "            - Pros: Balances precision and recall into a single metric, useful for imbalanced datasets.\n",
    "            - Cons: Can be harder to interpret than precision and recall individually.\n",
    "    4. Precision-Recall Curve: Particularly useful in highly imbalanced datasets.\n",
    "        - Pros:\n",
    "            - Provides insight into the trade-off between precision and recall.\n",
    "            - More informative than ROC when dealing with imbalanced data.\n",
    "        - Cons:\n",
    "            - Can be harder to interpret compared to ROC curves.\n",
    "    5. Logarithmic Loss (Log Loss): Suitable for probabilistic classification models.\n",
    "        - Pros:\n",
    "            - Takes into account the uncertainty of predictions.\n",
    "            - Useful for models outputting probability estimates.\n",
    "        - Cons:\n",
    "            - Sensitive to outliers and incorrect probability estimates.\n",
    "            - Can be harder to interpret for non-experts.       "
   ]
  },
  {
   "cell_type": "markdown",
   "id": "aaf13220",
   "metadata": {},
   "source": [
    "I choose roc_auc scores for the performance evaluation as the pros listed for this classification problem. I compare different models and then select the best performance one. "
   ]
  },
  {
   "cell_type": "markdown",
   "id": "6233ae8a",
   "metadata": {},
   "source": [
    "### Random Forest"
   ]
  },
  {
   "cell_type": "code",
   "execution_count": 20,
   "id": "c0898e44cc4e4154",
   "metadata": {
    "ExecuteTime": {
     "end_time": "2023-09-27T23:01:30.423011800Z",
     "start_time": "2023-09-27T23:01:29.472341200Z"
    },
    "collapsed": false
   },
   "outputs": [],
   "source": [
    "# try random forest classifier to predict default\n",
    "rfClassifier = RandomForestClassifier(random_state=34)\n",
    "rfClassifier.fit(xtrain_scaled, ytrain)\n",
    "\n",
    "# predicting default probabilities on the test set\n",
    "yPredictP_rf = rfClassifier.predict_proba(xtest_scaled)[:,1]\n",
    "\n",
    "# Evaluating the model's performance using ROC-AUC score\n",
    "roc_auc_rf = roc_auc_score(ytest, yPredictP_rf)"
   ]
  },
  {
   "cell_type": "code",
   "execution_count": 21,
   "id": "5a476c2d761c202e",
   "metadata": {
    "ExecuteTime": {
     "end_time": "2023-09-27T23:01:30.438968200Z",
     "start_time": "2023-09-27T23:01:30.422014200Z"
    },
    "collapsed": false
   },
   "outputs": [
    {
     "data": {
      "text/plain": [
       "0.9997592212127956"
      ]
     },
     "execution_count": 21,
     "metadata": {},
     "output_type": "execute_result"
    }
   ],
   "source": [
    "roc_auc_rf"
   ]
  },
  {
   "cell_type": "markdown",
   "id": "1521dd5886a6495a",
   "metadata": {
    "collapsed": false
   },
   "source": [
    "ROC_AUC score is exceptional for the Random Forest Classifier, where the ROC_AUC ranges from 0 to 1. "
   ]
  },
  {
   "cell_type": "markdown",
   "id": "fcd8f8e5",
   "metadata": {},
   "source": [
    "### Decision Tree"
   ]
  },
  {
   "cell_type": "code",
   "execution_count": 22,
   "id": "ada08e492c6d9470",
   "metadata": {
    "ExecuteTime": {
     "end_time": "2023-09-27T23:01:30.479858300Z",
     "start_time": "2023-09-27T23:01:30.437971600Z"
    },
    "collapsed": false
   },
   "outputs": [],
   "source": [
    "# try a different method: Decision Tree\n",
    "from sklearn.tree import DecisionTreeClassifier"
   ]
  },
  {
   "cell_type": "code",
   "execution_count": 23,
   "id": "ef7affdd88f5ae5e",
   "metadata": {
    "ExecuteTime": {
     "end_time": "2023-09-27T23:01:30.504794Z",
     "start_time": "2023-09-27T23:01:30.452931300Z"
    },
    "collapsed": false
   },
   "outputs": [],
   "source": [
    "#training the decision tree classifier\n",
    "dtClassifier = DecisionTreeClassifier(random_state=34)\n",
    "dtClassifier.fit(xtrain_scaled, ytrain)\n",
    "\n",
    "# predicting default prob on test set\n",
    "yPredictP_dt = dtClassifier.predict_proba(xtest_scaled)[:,1]\n",
    "\n",
    "#evaluating the model's performance using ROC_AUC socre\n",
    "roc_auc_dt = roc_auc_score(ytest, yPredictP_dt)"
   ]
  },
  {
   "cell_type": "code",
   "execution_count": 24,
   "id": "5d4d38c6bae4c7ce",
   "metadata": {
    "ExecuteTime": {
     "end_time": "2023-09-27T23:01:30.541693900Z",
     "start_time": "2023-09-27T23:01:30.498810200Z"
    },
    "collapsed": false
   },
   "outputs": [
    {
     "data": {
      "text/plain": [
       "0.9900602418279679"
      ]
     },
     "execution_count": 24,
     "metadata": {},
     "output_type": "execute_result"
    }
   ],
   "source": [
    "roc_auc_dt"
   ]
  },
  {
   "cell_type": "markdown",
   "id": "87bfb8ab",
   "metadata": {},
   "source": [
    "### Gradient Boosting"
   ]
  },
  {
   "cell_type": "code",
   "execution_count": 25,
   "id": "b059d22beb79c06",
   "metadata": {
    "ExecuteTime": {
     "end_time": "2023-09-27T23:01:30.553660400Z",
     "start_time": "2023-09-27T23:01:30.513769600Z"
    },
    "collapsed": false
   },
   "outputs": [],
   "source": [
    "# try gradient boosting\n",
    "from sklearn.ensemble import GradientBoostingClassifier"
   ]
  },
  {
   "cell_type": "code",
   "execution_count": 26,
   "id": "d519abeddb69dab4",
   "metadata": {
    "ExecuteTime": {
     "end_time": "2023-09-27T23:01:32.774742800Z",
     "start_time": "2023-09-27T23:01:30.528728800Z"
    },
    "collapsed": false
   },
   "outputs": [],
   "source": [
    "# training\n",
    "gbClassifier = GradientBoostingClassifier(random_state=34)\n",
    "gbClassifier.fit(xtrain_scaled, ytrain)\n",
    "\n",
    "# predict\n",
    "yPredictP_gb = gbClassifier.predict_proba(xtest_scaled)[:,1]\n",
    "\n",
    "#evaluation \n",
    "\n",
    "roc_auc_gb = roc_auc_score(ytest, yPredictP_gb)\n"
   ]
  },
  {
   "cell_type": "code",
   "execution_count": 27,
   "id": "8d447660e8d99e87",
   "metadata": {
    "ExecuteTime": {
     "end_time": "2023-09-27T23:01:32.795714Z",
     "start_time": "2023-09-27T23:01:32.779729700Z"
    },
    "collapsed": false
   },
   "outputs": [
    {
     "data": {
      "text/plain": [
       "0.9997618851483137"
      ]
     },
     "execution_count": 27,
     "metadata": {},
     "output_type": "execute_result"
    }
   ],
   "source": [
    "roc_auc_gb"
   ]
  },
  {
   "cell_type": "markdown",
   "id": "089fcbd4",
   "metadata": {},
   "source": [
    "### XGBoost"
   ]
  },
  {
   "cell_type": "code",
   "execution_count": 29,
   "id": "1b10cc806dc7eb9a",
   "metadata": {
    "ExecuteTime": {
     "end_time": "2023-09-27T23:01:32.832161700Z",
     "start_time": "2023-09-27T23:01:32.792694100Z"
    },
    "collapsed": false
   },
   "outputs": [],
   "source": [
    "import xgboost as xgb"
   ]
  },
  {
   "cell_type": "code",
   "execution_count": 30,
   "id": "7117c4f53cbffc40",
   "metadata": {
    "ExecuteTime": {
     "end_time": "2023-09-27T23:01:32.939872500Z",
     "start_time": "2023-09-27T23:01:32.826176200Z"
    },
    "collapsed": false
   },
   "outputs": [
    {
     "data": {
      "text/html": [
       "<style>#sk-container-id-1 {\n",
       "  /* Definition of color scheme common for light and dark mode */\n",
       "  --sklearn-color-text: black;\n",
       "  --sklearn-color-line: gray;\n",
       "  /* Definition of color scheme for unfitted estimators */\n",
       "  --sklearn-color-unfitted-level-0: #fff5e6;\n",
       "  --sklearn-color-unfitted-level-1: #f6e4d2;\n",
       "  --sklearn-color-unfitted-level-2: #ffe0b3;\n",
       "  --sklearn-color-unfitted-level-3: chocolate;\n",
       "  /* Definition of color scheme for fitted estimators */\n",
       "  --sklearn-color-fitted-level-0: #f0f8ff;\n",
       "  --sklearn-color-fitted-level-1: #d4ebff;\n",
       "  --sklearn-color-fitted-level-2: #b3dbfd;\n",
       "  --sklearn-color-fitted-level-3: cornflowerblue;\n",
       "\n",
       "  /* Specific color for light theme */\n",
       "  --sklearn-color-text-on-default-background: var(--sg-text-color, var(--theme-code-foreground, var(--jp-content-font-color1, black)));\n",
       "  --sklearn-color-background: var(--sg-background-color, var(--theme-background, var(--jp-layout-color0, white)));\n",
       "  --sklearn-color-border-box: var(--sg-text-color, var(--theme-code-foreground, var(--jp-content-font-color1, black)));\n",
       "  --sklearn-color-icon: #696969;\n",
       "\n",
       "  @media (prefers-color-scheme: dark) {\n",
       "    /* Redefinition of color scheme for dark theme */\n",
       "    --sklearn-color-text-on-default-background: var(--sg-text-color, var(--theme-code-foreground, var(--jp-content-font-color1, white)));\n",
       "    --sklearn-color-background: var(--sg-background-color, var(--theme-background, var(--jp-layout-color0, #111)));\n",
       "    --sklearn-color-border-box: var(--sg-text-color, var(--theme-code-foreground, var(--jp-content-font-color1, white)));\n",
       "    --sklearn-color-icon: #878787;\n",
       "  }\n",
       "}\n",
       "\n",
       "#sk-container-id-1 {\n",
       "  color: var(--sklearn-color-text);\n",
       "}\n",
       "\n",
       "#sk-container-id-1 pre {\n",
       "  padding: 0;\n",
       "}\n",
       "\n",
       "#sk-container-id-1 input.sk-hidden--visually {\n",
       "  border: 0;\n",
       "  clip: rect(1px 1px 1px 1px);\n",
       "  clip: rect(1px, 1px, 1px, 1px);\n",
       "  height: 1px;\n",
       "  margin: -1px;\n",
       "  overflow: hidden;\n",
       "  padding: 0;\n",
       "  position: absolute;\n",
       "  width: 1px;\n",
       "}\n",
       "\n",
       "#sk-container-id-1 div.sk-dashed-wrapped {\n",
       "  border: 1px dashed var(--sklearn-color-line);\n",
       "  margin: 0 0.4em 0.5em 0.4em;\n",
       "  box-sizing: border-box;\n",
       "  padding-bottom: 0.4em;\n",
       "  background-color: var(--sklearn-color-background);\n",
       "}\n",
       "\n",
       "#sk-container-id-1 div.sk-container {\n",
       "  /* jupyter's `normalize.less` sets `[hidden] { display: none; }`\n",
       "     but bootstrap.min.css set `[hidden] { display: none !important; }`\n",
       "     so we also need the `!important` here to be able to override the\n",
       "     default hidden behavior on the sphinx rendered scikit-learn.org.\n",
       "     See: https://github.com/scikit-learn/scikit-learn/issues/21755 */\n",
       "  display: inline-block !important;\n",
       "  position: relative;\n",
       "}\n",
       "\n",
       "#sk-container-id-1 div.sk-text-repr-fallback {\n",
       "  display: none;\n",
       "}\n",
       "\n",
       "div.sk-parallel-item,\n",
       "div.sk-serial,\n",
       "div.sk-item {\n",
       "  /* draw centered vertical line to link estimators */\n",
       "  background-image: linear-gradient(var(--sklearn-color-text-on-default-background), var(--sklearn-color-text-on-default-background));\n",
       "  background-size: 2px 100%;\n",
       "  background-repeat: no-repeat;\n",
       "  background-position: center center;\n",
       "}\n",
       "\n",
       "/* Parallel-specific style estimator block */\n",
       "\n",
       "#sk-container-id-1 div.sk-parallel-item::after {\n",
       "  content: \"\";\n",
       "  width: 100%;\n",
       "  border-bottom: 2px solid var(--sklearn-color-text-on-default-background);\n",
       "  flex-grow: 1;\n",
       "}\n",
       "\n",
       "#sk-container-id-1 div.sk-parallel {\n",
       "  display: flex;\n",
       "  align-items: stretch;\n",
       "  justify-content: center;\n",
       "  background-color: var(--sklearn-color-background);\n",
       "  position: relative;\n",
       "}\n",
       "\n",
       "#sk-container-id-1 div.sk-parallel-item {\n",
       "  display: flex;\n",
       "  flex-direction: column;\n",
       "}\n",
       "\n",
       "#sk-container-id-1 div.sk-parallel-item:first-child::after {\n",
       "  align-self: flex-end;\n",
       "  width: 50%;\n",
       "}\n",
       "\n",
       "#sk-container-id-1 div.sk-parallel-item:last-child::after {\n",
       "  align-self: flex-start;\n",
       "  width: 50%;\n",
       "}\n",
       "\n",
       "#sk-container-id-1 div.sk-parallel-item:only-child::after {\n",
       "  width: 0;\n",
       "}\n",
       "\n",
       "/* Serial-specific style estimator block */\n",
       "\n",
       "#sk-container-id-1 div.sk-serial {\n",
       "  display: flex;\n",
       "  flex-direction: column;\n",
       "  align-items: center;\n",
       "  background-color: var(--sklearn-color-background);\n",
       "  padding-right: 1em;\n",
       "  padding-left: 1em;\n",
       "}\n",
       "\n",
       "\n",
       "/* Toggleable style: style used for estimator/Pipeline/ColumnTransformer box that is\n",
       "clickable and can be expanded/collapsed.\n",
       "- Pipeline and ColumnTransformer use this feature and define the default style\n",
       "- Estimators will overwrite some part of the style using the `sk-estimator` class\n",
       "*/\n",
       "\n",
       "/* Pipeline and ColumnTransformer style (default) */\n",
       "\n",
       "#sk-container-id-1 div.sk-toggleable {\n",
       "  /* Default theme specific background. It is overwritten whether we have a\n",
       "  specific estimator or a Pipeline/ColumnTransformer */\n",
       "  background-color: var(--sklearn-color-background);\n",
       "}\n",
       "\n",
       "/* Toggleable label */\n",
       "#sk-container-id-1 label.sk-toggleable__label {\n",
       "  cursor: pointer;\n",
       "  display: block;\n",
       "  width: 100%;\n",
       "  margin-bottom: 0;\n",
       "  padding: 0.5em;\n",
       "  box-sizing: border-box;\n",
       "  text-align: center;\n",
       "}\n",
       "\n",
       "#sk-container-id-1 label.sk-toggleable__label-arrow:before {\n",
       "  /* Arrow on the left of the label */\n",
       "  content: \"▸\";\n",
       "  float: left;\n",
       "  margin-right: 0.25em;\n",
       "  color: var(--sklearn-color-icon);\n",
       "}\n",
       "\n",
       "#sk-container-id-1 label.sk-toggleable__label-arrow:hover:before {\n",
       "  color: var(--sklearn-color-text);\n",
       "}\n",
       "\n",
       "/* Toggleable content - dropdown */\n",
       "\n",
       "#sk-container-id-1 div.sk-toggleable__content {\n",
       "  max-height: 0;\n",
       "  max-width: 0;\n",
       "  overflow: hidden;\n",
       "  text-align: left;\n",
       "  /* unfitted */\n",
       "  background-color: var(--sklearn-color-unfitted-level-0);\n",
       "}\n",
       "\n",
       "#sk-container-id-1 div.sk-toggleable__content.fitted {\n",
       "  /* fitted */\n",
       "  background-color: var(--sklearn-color-fitted-level-0);\n",
       "}\n",
       "\n",
       "#sk-container-id-1 div.sk-toggleable__content pre {\n",
       "  margin: 0.2em;\n",
       "  border-radius: 0.25em;\n",
       "  color: var(--sklearn-color-text);\n",
       "  /* unfitted */\n",
       "  background-color: var(--sklearn-color-unfitted-level-0);\n",
       "}\n",
       "\n",
       "#sk-container-id-1 div.sk-toggleable__content.fitted pre {\n",
       "  /* unfitted */\n",
       "  background-color: var(--sklearn-color-fitted-level-0);\n",
       "}\n",
       "\n",
       "#sk-container-id-1 input.sk-toggleable__control:checked~div.sk-toggleable__content {\n",
       "  /* Expand drop-down */\n",
       "  max-height: 200px;\n",
       "  max-width: 100%;\n",
       "  overflow: auto;\n",
       "}\n",
       "\n",
       "#sk-container-id-1 input.sk-toggleable__control:checked~label.sk-toggleable__label-arrow:before {\n",
       "  content: \"▾\";\n",
       "}\n",
       "\n",
       "/* Pipeline/ColumnTransformer-specific style */\n",
       "\n",
       "#sk-container-id-1 div.sk-label input.sk-toggleable__control:checked~label.sk-toggleable__label {\n",
       "  color: var(--sklearn-color-text);\n",
       "  background-color: var(--sklearn-color-unfitted-level-2);\n",
       "}\n",
       "\n",
       "#sk-container-id-1 div.sk-label.fitted input.sk-toggleable__control:checked~label.sk-toggleable__label {\n",
       "  background-color: var(--sklearn-color-fitted-level-2);\n",
       "}\n",
       "\n",
       "/* Estimator-specific style */\n",
       "\n",
       "/* Colorize estimator box */\n",
       "#sk-container-id-1 div.sk-estimator input.sk-toggleable__control:checked~label.sk-toggleable__label {\n",
       "  /* unfitted */\n",
       "  background-color: var(--sklearn-color-unfitted-level-2);\n",
       "}\n",
       "\n",
       "#sk-container-id-1 div.sk-estimator.fitted input.sk-toggleable__control:checked~label.sk-toggleable__label {\n",
       "  /* fitted */\n",
       "  background-color: var(--sklearn-color-fitted-level-2);\n",
       "}\n",
       "\n",
       "#sk-container-id-1 div.sk-label label.sk-toggleable__label,\n",
       "#sk-container-id-1 div.sk-label label {\n",
       "  /* The background is the default theme color */\n",
       "  color: var(--sklearn-color-text-on-default-background);\n",
       "}\n",
       "\n",
       "/* On hover, darken the color of the background */\n",
       "#sk-container-id-1 div.sk-label:hover label.sk-toggleable__label {\n",
       "  color: var(--sklearn-color-text);\n",
       "  background-color: var(--sklearn-color-unfitted-level-2);\n",
       "}\n",
       "\n",
       "/* Label box, darken color on hover, fitted */\n",
       "#sk-container-id-1 div.sk-label.fitted:hover label.sk-toggleable__label.fitted {\n",
       "  color: var(--sklearn-color-text);\n",
       "  background-color: var(--sklearn-color-fitted-level-2);\n",
       "}\n",
       "\n",
       "/* Estimator label */\n",
       "\n",
       "#sk-container-id-1 div.sk-label label {\n",
       "  font-family: monospace;\n",
       "  font-weight: bold;\n",
       "  display: inline-block;\n",
       "  line-height: 1.2em;\n",
       "}\n",
       "\n",
       "#sk-container-id-1 div.sk-label-container {\n",
       "  text-align: center;\n",
       "}\n",
       "\n",
       "/* Estimator-specific */\n",
       "#sk-container-id-1 div.sk-estimator {\n",
       "  font-family: monospace;\n",
       "  border: 1px dotted var(--sklearn-color-border-box);\n",
       "  border-radius: 0.25em;\n",
       "  box-sizing: border-box;\n",
       "  margin-bottom: 0.5em;\n",
       "  /* unfitted */\n",
       "  background-color: var(--sklearn-color-unfitted-level-0);\n",
       "}\n",
       "\n",
       "#sk-container-id-1 div.sk-estimator.fitted {\n",
       "  /* fitted */\n",
       "  background-color: var(--sklearn-color-fitted-level-0);\n",
       "}\n",
       "\n",
       "/* on hover */\n",
       "#sk-container-id-1 div.sk-estimator:hover {\n",
       "  /* unfitted */\n",
       "  background-color: var(--sklearn-color-unfitted-level-2);\n",
       "}\n",
       "\n",
       "#sk-container-id-1 div.sk-estimator.fitted:hover {\n",
       "  /* fitted */\n",
       "  background-color: var(--sklearn-color-fitted-level-2);\n",
       "}\n",
       "\n",
       "/* Specification for estimator info (e.g. \"i\" and \"?\") */\n",
       "\n",
       "/* Common style for \"i\" and \"?\" */\n",
       "\n",
       ".sk-estimator-doc-link,\n",
       "a:link.sk-estimator-doc-link,\n",
       "a:visited.sk-estimator-doc-link {\n",
       "  float: right;\n",
       "  font-size: smaller;\n",
       "  line-height: 1em;\n",
       "  font-family: monospace;\n",
       "  background-color: var(--sklearn-color-background);\n",
       "  border-radius: 1em;\n",
       "  height: 1em;\n",
       "  width: 1em;\n",
       "  text-decoration: none !important;\n",
       "  margin-left: 1ex;\n",
       "  /* unfitted */\n",
       "  border: var(--sklearn-color-unfitted-level-1) 1pt solid;\n",
       "  color: var(--sklearn-color-unfitted-level-1);\n",
       "}\n",
       "\n",
       ".sk-estimator-doc-link.fitted,\n",
       "a:link.sk-estimator-doc-link.fitted,\n",
       "a:visited.sk-estimator-doc-link.fitted {\n",
       "  /* fitted */\n",
       "  border: var(--sklearn-color-fitted-level-1) 1pt solid;\n",
       "  color: var(--sklearn-color-fitted-level-1);\n",
       "}\n",
       "\n",
       "/* On hover */\n",
       "div.sk-estimator:hover .sk-estimator-doc-link:hover,\n",
       ".sk-estimator-doc-link:hover,\n",
       "div.sk-label-container:hover .sk-estimator-doc-link:hover,\n",
       ".sk-estimator-doc-link:hover {\n",
       "  /* unfitted */\n",
       "  background-color: var(--sklearn-color-unfitted-level-3);\n",
       "  color: var(--sklearn-color-background);\n",
       "  text-decoration: none;\n",
       "}\n",
       "\n",
       "div.sk-estimator.fitted:hover .sk-estimator-doc-link.fitted:hover,\n",
       ".sk-estimator-doc-link.fitted:hover,\n",
       "div.sk-label-container:hover .sk-estimator-doc-link.fitted:hover,\n",
       ".sk-estimator-doc-link.fitted:hover {\n",
       "  /* fitted */\n",
       "  background-color: var(--sklearn-color-fitted-level-3);\n",
       "  color: var(--sklearn-color-background);\n",
       "  text-decoration: none;\n",
       "}\n",
       "\n",
       "/* Span, style for the box shown on hovering the info icon */\n",
       ".sk-estimator-doc-link span {\n",
       "  display: none;\n",
       "  z-index: 9999;\n",
       "  position: relative;\n",
       "  font-weight: normal;\n",
       "  right: .2ex;\n",
       "  padding: .5ex;\n",
       "  margin: .5ex;\n",
       "  width: min-content;\n",
       "  min-width: 20ex;\n",
       "  max-width: 50ex;\n",
       "  color: var(--sklearn-color-text);\n",
       "  box-shadow: 2pt 2pt 4pt #999;\n",
       "  /* unfitted */\n",
       "  background: var(--sklearn-color-unfitted-level-0);\n",
       "  border: .5pt solid var(--sklearn-color-unfitted-level-3);\n",
       "}\n",
       "\n",
       ".sk-estimator-doc-link.fitted span {\n",
       "  /* fitted */\n",
       "  background: var(--sklearn-color-fitted-level-0);\n",
       "  border: var(--sklearn-color-fitted-level-3);\n",
       "}\n",
       "\n",
       ".sk-estimator-doc-link:hover span {\n",
       "  display: block;\n",
       "}\n",
       "\n",
       "/* \"?\"-specific style due to the `<a>` HTML tag */\n",
       "\n",
       "#sk-container-id-1 a.estimator_doc_link {\n",
       "  float: right;\n",
       "  font-size: 1rem;\n",
       "  line-height: 1em;\n",
       "  font-family: monospace;\n",
       "  background-color: var(--sklearn-color-background);\n",
       "  border-radius: 1rem;\n",
       "  height: 1rem;\n",
       "  width: 1rem;\n",
       "  text-decoration: none;\n",
       "  /* unfitted */\n",
       "  color: var(--sklearn-color-unfitted-level-1);\n",
       "  border: var(--sklearn-color-unfitted-level-1) 1pt solid;\n",
       "}\n",
       "\n",
       "#sk-container-id-1 a.estimator_doc_link.fitted {\n",
       "  /* fitted */\n",
       "  border: var(--sklearn-color-fitted-level-1) 1pt solid;\n",
       "  color: var(--sklearn-color-fitted-level-1);\n",
       "}\n",
       "\n",
       "/* On hover */\n",
       "#sk-container-id-1 a.estimator_doc_link:hover {\n",
       "  /* unfitted */\n",
       "  background-color: var(--sklearn-color-unfitted-level-3);\n",
       "  color: var(--sklearn-color-background);\n",
       "  text-decoration: none;\n",
       "}\n",
       "\n",
       "#sk-container-id-1 a.estimator_doc_link.fitted:hover {\n",
       "  /* fitted */\n",
       "  background-color: var(--sklearn-color-fitted-level-3);\n",
       "}\n",
       "</style><div id=\"sk-container-id-1\" class=\"sk-top-container\"><div class=\"sk-text-repr-fallback\"><pre>XGBClassifier(base_score=None, booster=None, callbacks=None,\n",
       "              colsample_bylevel=None, colsample_bynode=None,\n",
       "              colsample_bytree=None, device=None, early_stopping_rounds=None,\n",
       "              enable_categorical=False, eval_metric=&#x27;auc&#x27;, feature_types=None,\n",
       "              gamma=None, grow_policy=None, importance_type=None,\n",
       "              interaction_constraints=None, learning_rate=None, max_bin=None,\n",
       "              max_cat_threshold=None, max_cat_to_onehot=None,\n",
       "              max_delta_step=None, max_depth=None, max_leaves=None,\n",
       "              min_child_weight=None, missing=nan, monotone_constraints=None,\n",
       "              multi_strategy=None, n_estimators=None, n_jobs=None,\n",
       "              num_parallel_tree=None, random_state=34, ...)</pre><b>In a Jupyter environment, please rerun this cell to show the HTML representation or trust the notebook. <br />On GitHub, the HTML representation is unable to render, please try loading this page with nbviewer.org.</b></div><div class=\"sk-container\" hidden><div class=\"sk-item\"><div class=\"sk-estimator fitted sk-toggleable\"><input class=\"sk-toggleable__control sk-hidden--visually\" id=\"sk-estimator-id-1\" type=\"checkbox\" checked><label for=\"sk-estimator-id-1\" class=\"sk-toggleable__label fitted sk-toggleable__label-arrow fitted\">&nbsp;XGBClassifier<span class=\"sk-estimator-doc-link fitted\">i<span>Fitted</span></span></label><div class=\"sk-toggleable__content fitted\"><pre>XGBClassifier(base_score=None, booster=None, callbacks=None,\n",
       "              colsample_bylevel=None, colsample_bynode=None,\n",
       "              colsample_bytree=None, device=None, early_stopping_rounds=None,\n",
       "              enable_categorical=False, eval_metric=&#x27;auc&#x27;, feature_types=None,\n",
       "              gamma=None, grow_policy=None, importance_type=None,\n",
       "              interaction_constraints=None, learning_rate=None, max_bin=None,\n",
       "              max_cat_threshold=None, max_cat_to_onehot=None,\n",
       "              max_delta_step=None, max_depth=None, max_leaves=None,\n",
       "              min_child_weight=None, missing=nan, monotone_constraints=None,\n",
       "              multi_strategy=None, n_estimators=None, n_jobs=None,\n",
       "              num_parallel_tree=None, random_state=34, ...)</pre></div> </div></div></div></div>"
      ],
      "text/plain": [
       "XGBClassifier(base_score=None, booster=None, callbacks=None,\n",
       "              colsample_bylevel=None, colsample_bynode=None,\n",
       "              colsample_bytree=None, device=None, early_stopping_rounds=None,\n",
       "              enable_categorical=False, eval_metric='auc', feature_types=None,\n",
       "              gamma=None, grow_policy=None, importance_type=None,\n",
       "              interaction_constraints=None, learning_rate=None, max_bin=None,\n",
       "              max_cat_threshold=None, max_cat_to_onehot=None,\n",
       "              max_delta_step=None, max_depth=None, max_leaves=None,\n",
       "              min_child_weight=None, missing=nan, monotone_constraints=None,\n",
       "              multi_strategy=None, n_estimators=None, n_jobs=None,\n",
       "              num_parallel_tree=None, random_state=34, ...)"
      ]
     },
     "execution_count": 30,
     "metadata": {},
     "output_type": "execute_result"
    }
   ],
   "source": [
    "xgbClassifier = xgb.XGBClassifier(\n",
    "    objective = 'binary:logistic', \n",
    "    eval_metric = 'auc', \n",
    "    use_label_encoder = False, # To avoid a deprecation warning\n",
    "    random_state = 34\n",
    " )\n",
    "\n",
    "xgbClassifier.fit(xtrain_scaled, ytrain)"
   ]
  },
  {
   "cell_type": "code",
   "execution_count": 31,
   "id": "b9399683dccac18c",
   "metadata": {
    "ExecuteTime": {
     "end_time": "2023-09-27T23:01:33.005205Z",
     "start_time": "2023-09-27T23:01:32.935883700Z"
    },
    "collapsed": false
   },
   "outputs": [
    {
     "data": {
      "text/plain": [
       "0.9999213114431604"
      ]
     },
     "execution_count": 31,
     "metadata": {},
     "output_type": "execute_result"
    }
   ],
   "source": [
    "roc_auc_xgb = roc_auc_score(ytest, xgbClassifier.predict_proba(xtest_scaled)[:, 1])\n",
    "\n",
    "roc_auc_xgb"
   ]
  },
  {
   "cell_type": "markdown",
   "id": "f799253c",
   "metadata": {},
   "source": [
    "### Cross Validation"
   ]
  },
  {
   "cell_type": "code",
   "execution_count": 32,
   "id": "3e09487b44c6b85e",
   "metadata": {
    "ExecuteTime": {
     "end_time": "2023-09-27T23:01:33.022160600Z",
     "start_time": "2023-09-27T23:01:32.961815400Z"
    },
    "collapsed": false
   },
   "outputs": [],
   "source": [
    "# cross-validation to detect the overfitting and a more robust estimate of a model's performance\n",
    "from sklearn.model_selection import cross_val_score"
   ]
  },
  {
   "cell_type": "code",
   "execution_count": 33,
   "id": "8357d81c109d2098",
   "metadata": {
    "ExecuteTime": {
     "end_time": "2023-09-27T23:01:36.564330500Z",
     "start_time": "2023-09-27T23:01:32.979766100Z"
    },
    "collapsed": false
   },
   "outputs": [
    {
     "name": "stdout",
     "output_type": "stream",
     "text": [
      "Random Forest - CV Mean: 0.9996887755102042, CV Std: 0.00022858185679652617\n"
     ]
    }
   ],
   "source": [
    "# cross validation for Random Forest\n",
    "cv_rf = cross_val_score(rfClassifier, xtrain_scaled, ytrain, cv=5, scoring='roc_auc')\n",
    "print(f\"Random Forest - CV Mean: {cv_rf.mean()}, CV Std: {cv_rf.std()}\")"
   ]
  },
  {
   "cell_type": "code",
   "execution_count": 34,
   "id": "1b74d432f932830e",
   "metadata": {
    "ExecuteTime": {
     "end_time": "2023-09-27T23:01:36.689510200Z",
     "start_time": "2023-09-27T23:01:36.567324Z"
    },
    "collapsed": false
   },
   "outputs": [
    {
     "name": "stdout",
     "output_type": "stream",
     "text": [
      "Decision Tree - DT Mean: 0.9879591836734694, DT Std: 0.005336217958534341\n"
     ]
    }
   ],
   "source": [
    "# cross validation for Decision Tree\n",
    "cv_dt = cross_val_score(dtClassifier, xtrain_scaled, ytrain, cv=5, scoring='roc_auc')\n",
    "print(f\"Decision Tree - DT Mean: {cv_dt.mean()}, DT Std: {cv_dt.std()}\")"
   ]
  },
  {
   "cell_type": "code",
   "execution_count": 35,
   "id": "1cf81fe7d3e31bcd",
   "metadata": {
    "ExecuteTime": {
     "end_time": "2023-09-27T23:01:45.569879100Z",
     "start_time": "2023-09-27T23:01:36.691504Z"
    },
    "collapsed": false
   },
   "outputs": [
    {
     "name": "stdout",
     "output_type": "stream",
     "text": [
      "Gradient Boosting - GB Mean: 0.9996971243042673, GB Std: 0.0002576679857541509\n"
     ]
    }
   ],
   "source": [
    "# cross validation for Gradient Boosting\n",
    "cv_gb = cross_val_score(gbClassifier, xtrain_scaled, ytrain, cv=5, scoring='roc_auc')\n",
    "print(f\"Gradient Boosting - GB Mean: {cv_gb.mean()}, GB Std: {cv_gb.std()}\")"
   ]
  },
  {
   "cell_type": "code",
   "execution_count": 36,
   "id": "d78b2a334f5a781d",
   "metadata": {
    "ExecuteTime": {
     "end_time": "2023-09-27T23:01:45.919943200Z",
     "start_time": "2023-09-27T23:01:45.564893Z"
    },
    "collapsed": false
   },
   "outputs": [
    {
     "name": "stdout",
     "output_type": "stream",
     "text": [
      "XGBoosting - XGB Mean: 0.9998293135435992, XGB Std: 0.0001677830418796913\n"
     ]
    }
   ],
   "source": [
    "# cross validation for XGBoost\n",
    "cv_xgb = cross_val_score(xgbClassifier, xtrain_scaled, ytrain, cv=5, scoring='roc_auc')\n",
    "print(f\"XGBoosting - XGB Mean: {cv_xgb.mean()}, XGB Std: {cv_xgb.std()}\")"
   ]
  },
  {
   "cell_type": "markdown",
   "id": "fc3e5114387e3ec5",
   "metadata": {
    "collapsed": false
   },
   "source": [
    "The cross validation shows that both random forest and gradient boosting hold pretty good result, whose results are very close to 1.\n",
    "Although the random forest would give a faster prediction speed, and gradient boosting for the better performance than random forest, the XGBoost would provide a better performance and a faster speed because of its optimiztion and parallel processing.  "
   ]
  },
  {
   "cell_type": "markdown",
   "id": "f726b79b12e04b81",
   "metadata": {
    "collapsed": false
   },
   "source": [
    "The expected loss is calculated as: \n",
    "\n",
    "$$ Expected\\ loss = \\mathbb{P}(Default) * loan\\ amount * (1 - Recovery\\ Rate) $$"
   ]
  },
  {
   "cell_type": "code",
   "execution_count": 37,
   "id": "731c9487bf0aee10",
   "metadata": {
    "ExecuteTime": {
     "end_time": "2023-09-27T23:01:45.934902800Z",
     "start_time": "2023-09-27T23:01:45.912962Z"
    },
    "collapsed": false
   },
   "outputs": [],
   "source": [
    "def predictDefaultP(loanFestures, model, scaler):\n",
    "    featureScaled = scaler.transform(loanFestures)\n",
    "    \n",
    "    defaultP = model.predict_proba(featureScaled)[:,1]\n",
    "    \n",
    "    return defaultP\n",
    "    "
   ]
  },
  {
   "cell_type": "code",
   "execution_count": 38,
   "id": "36ed45273758af38",
   "metadata": {
    "ExecuteTime": {
     "end_time": "2023-09-27T23:01:45.984769300Z",
     "start_time": "2023-09-27T23:01:45.925929100Z"
    },
    "collapsed": false
   },
   "outputs": [],
   "source": [
    "prob_default_test = predictDefaultP(Xtest, xgbClassifier, scaler)\n",
    "\n",
    "Xtest['Prob of default'] = prob_default_test"
   ]
  },
  {
   "cell_type": "code",
   "execution_count": 39,
   "id": "d5dadc68bb36e5a5",
   "metadata": {
    "ExecuteTime": {
     "end_time": "2023-09-27T23:01:46.003718900Z",
     "start_time": "2023-09-27T23:01:45.939890400Z"
    },
    "collapsed": false
   },
   "outputs": [],
   "source": [
    "prob_default_train = predictDefaultP(Xtrain, xgbClassifier,scaler)\n",
    "Xtrain['Prob of default'] = prob_default_train"
   ]
  },
  {
   "cell_type": "code",
   "execution_count": 40,
   "id": "3e4e278b7297c2f1",
   "metadata": {
    "ExecuteTime": {
     "end_time": "2023-09-27T23:01:46.003718900Z",
     "start_time": "2023-09-27T23:01:45.956845700Z"
    },
    "collapsed": false
   },
   "outputs": [],
   "source": [
    "def Eloss(DefaultP, loanAmt, recoveryRate = 0.1):\n",
    "    \n",
    "    return DefaultP * loanAmt * (1-recoveryRate)"
   ]
  },
  {
   "cell_type": "code",
   "execution_count": 41,
   "id": "afaba9057d68de3e",
   "metadata": {
    "ExecuteTime": {
     "end_time": "2023-09-27T23:03:44.163103900Z",
     "start_time": "2023-09-27T23:03:44.144608300Z"
    },
    "collapsed": false
   },
   "outputs": [],
   "source": [
    "expected_loss_train = Eloss(prob_default_train, Xtrain['loan_amt_outstanding'].values[0])\n",
    "Xtrain['expected_loss'] = expected_loss_train"
   ]
  },
  {
   "cell_type": "code",
   "execution_count": 42,
   "id": "4def16e4",
   "metadata": {},
   "outputs": [
    {
     "data": {
      "text/html": [
       "<div>\n",
       "<style scoped>\n",
       "    .dataframe tbody tr th:only-of-type {\n",
       "        vertical-align: middle;\n",
       "    }\n",
       "\n",
       "    .dataframe tbody tr th {\n",
       "        vertical-align: top;\n",
       "    }\n",
       "\n",
       "    .dataframe thead th {\n",
       "        text-align: right;\n",
       "    }\n",
       "</style>\n",
       "<table border=\"1\" class=\"dataframe\">\n",
       "  <thead>\n",
       "    <tr style=\"text-align: right;\">\n",
       "      <th></th>\n",
       "      <th>customer_id</th>\n",
       "      <th>credit_lines_outstanding</th>\n",
       "      <th>loan_amt_outstanding</th>\n",
       "      <th>total_debt_outstanding</th>\n",
       "      <th>income</th>\n",
       "      <th>years_employed</th>\n",
       "      <th>fico_score</th>\n",
       "      <th>Prob of default</th>\n",
       "      <th>expected_loss</th>\n",
       "    </tr>\n",
       "  </thead>\n",
       "  <tbody>\n",
       "    <tr>\n",
       "      <th>7803</th>\n",
       "      <td>7291395</td>\n",
       "      <td>1</td>\n",
       "      <td>3514.373898</td>\n",
       "      <td>5534.786569</td>\n",
       "      <td>68134.16335</td>\n",
       "      <td>5</td>\n",
       "      <td>663</td>\n",
       "      <td>0.000004</td>\n",
       "      <td>0.012883</td>\n",
       "    </tr>\n",
       "    <tr>\n",
       "      <th>2912</th>\n",
       "      <td>8086988</td>\n",
       "      <td>0</td>\n",
       "      <td>4808.997289</td>\n",
       "      <td>846.620712</td>\n",
       "      <td>83878.82050</td>\n",
       "      <td>4</td>\n",
       "      <td>704</td>\n",
       "      <td>0.000002</td>\n",
       "      <td>0.005588</td>\n",
       "    </tr>\n",
       "    <tr>\n",
       "      <th>8244</th>\n",
       "      <td>3914623</td>\n",
       "      <td>1</td>\n",
       "      <td>5322.357599</td>\n",
       "      <td>10089.678410</td>\n",
       "      <td>84995.64043</td>\n",
       "      <td>5</td>\n",
       "      <td>693</td>\n",
       "      <td>0.000002</td>\n",
       "      <td>0.007766</td>\n",
       "    </tr>\n",
       "    <tr>\n",
       "      <th>3695</th>\n",
       "      <td>3469901</td>\n",
       "      <td>1</td>\n",
       "      <td>3808.427293</td>\n",
       "      <td>6372.428393</td>\n",
       "      <td>63076.46622</td>\n",
       "      <td>7</td>\n",
       "      <td>656</td>\n",
       "      <td>0.000002</td>\n",
       "      <td>0.005415</td>\n",
       "    </tr>\n",
       "    <tr>\n",
       "      <th>2629</th>\n",
       "      <td>1337395</td>\n",
       "      <td>5</td>\n",
       "      <td>4271.314690</td>\n",
       "      <td>22756.281030</td>\n",
       "      <td>83475.30929</td>\n",
       "      <td>4</td>\n",
       "      <td>438</td>\n",
       "      <td>0.999985</td>\n",
       "      <td>3162.888428</td>\n",
       "    </tr>\n",
       "    <tr>\n",
       "      <th>...</th>\n",
       "      <td>...</td>\n",
       "      <td>...</td>\n",
       "      <td>...</td>\n",
       "      <td>...</td>\n",
       "      <td>...</td>\n",
       "      <td>...</td>\n",
       "      <td>...</td>\n",
       "      <td>...</td>\n",
       "      <td>...</td>\n",
       "    </tr>\n",
       "    <tr>\n",
       "      <th>5667</th>\n",
       "      <td>4437459</td>\n",
       "      <td>0</td>\n",
       "      <td>1712.912777</td>\n",
       "      <td>1209.698471</td>\n",
       "      <td>29131.62730</td>\n",
       "      <td>4</td>\n",
       "      <td>605</td>\n",
       "      <td>0.000062</td>\n",
       "      <td>0.196178</td>\n",
       "    </tr>\n",
       "    <tr>\n",
       "      <th>324</th>\n",
       "      <td>8099678</td>\n",
       "      <td>2</td>\n",
       "      <td>3973.657805</td>\n",
       "      <td>9369.089493</td>\n",
       "      <td>63687.96336</td>\n",
       "      <td>5</td>\n",
       "      <td>725</td>\n",
       "      <td>0.000007</td>\n",
       "      <td>0.023369</td>\n",
       "    </tr>\n",
       "    <tr>\n",
       "      <th>3157</th>\n",
       "      <td>1720192</td>\n",
       "      <td>0</td>\n",
       "      <td>2229.419378</td>\n",
       "      <td>3043.967766</td>\n",
       "      <td>34820.76913</td>\n",
       "      <td>4</td>\n",
       "      <td>592</td>\n",
       "      <td>0.000079</td>\n",
       "      <td>0.249983</td>\n",
       "    </tr>\n",
       "    <tr>\n",
       "      <th>5993</th>\n",
       "      <td>1483641</td>\n",
       "      <td>1</td>\n",
       "      <td>5793.687316</td>\n",
       "      <td>9207.734040</td>\n",
       "      <td>98548.46301</td>\n",
       "      <td>6</td>\n",
       "      <td>657</td>\n",
       "      <td>0.000002</td>\n",
       "      <td>0.006388</td>\n",
       "    </tr>\n",
       "    <tr>\n",
       "      <th>5242</th>\n",
       "      <td>2007041</td>\n",
       "      <td>0</td>\n",
       "      <td>4260.604378</td>\n",
       "      <td>2498.539995</td>\n",
       "      <td>78167.56477</td>\n",
       "      <td>6</td>\n",
       "      <td>740</td>\n",
       "      <td>0.000003</td>\n",
       "      <td>0.009734</td>\n",
       "    </tr>\n",
       "  </tbody>\n",
       "</table>\n",
       "<p>6000 rows × 9 columns</p>\n",
       "</div>"
      ],
      "text/plain": [
       "      customer_id  credit_lines_outstanding  loan_amt_outstanding  \\\n",
       "7803      7291395                         1           3514.373898   \n",
       "2912      8086988                         0           4808.997289   \n",
       "8244      3914623                         1           5322.357599   \n",
       "3695      3469901                         1           3808.427293   \n",
       "2629      1337395                         5           4271.314690   \n",
       "...           ...                       ...                   ...   \n",
       "5667      4437459                         0           1712.912777   \n",
       "324       8099678                         2           3973.657805   \n",
       "3157      1720192                         0           2229.419378   \n",
       "5993      1483641                         1           5793.687316   \n",
       "5242      2007041                         0           4260.604378   \n",
       "\n",
       "      total_debt_outstanding       income  years_employed  fico_score  \\\n",
       "7803             5534.786569  68134.16335               5         663   \n",
       "2912              846.620712  83878.82050               4         704   \n",
       "8244            10089.678410  84995.64043               5         693   \n",
       "3695             6372.428393  63076.46622               7         656   \n",
       "2629            22756.281030  83475.30929               4         438   \n",
       "...                      ...          ...             ...         ...   \n",
       "5667             1209.698471  29131.62730               4         605   \n",
       "324              9369.089493  63687.96336               5         725   \n",
       "3157             3043.967766  34820.76913               4         592   \n",
       "5993             9207.734040  98548.46301               6         657   \n",
       "5242             2498.539995  78167.56477               6         740   \n",
       "\n",
       "      Prob of default  expected_loss  \n",
       "7803         0.000004       0.012883  \n",
       "2912         0.000002       0.005588  \n",
       "8244         0.000002       0.007766  \n",
       "3695         0.000002       0.005415  \n",
       "2629         0.999985    3162.888428  \n",
       "...               ...            ...  \n",
       "5667         0.000062       0.196178  \n",
       "324          0.000007       0.023369  \n",
       "3157         0.000079       0.249983  \n",
       "5993         0.000002       0.006388  \n",
       "5242         0.000003       0.009734  \n",
       "\n",
       "[6000 rows x 9 columns]"
      ]
     },
     "execution_count": 42,
     "metadata": {},
     "output_type": "execute_result"
    }
   ],
   "source": [
    "Xtrain"
   ]
  },
  {
   "cell_type": "code",
   "execution_count": 43,
   "id": "c35ee740",
   "metadata": {},
   "outputs": [],
   "source": [
    "expected_loss_test = Eloss(prob_default_test, Xtest['loan_amt_outstanding'].values[0])\n",
    "Xtest['expected_loss'] = expected_loss_test"
   ]
  },
  {
   "cell_type": "code",
   "execution_count": 44,
   "id": "ad7ab612",
   "metadata": {},
   "outputs": [
    {
     "data": {
      "text/html": [
       "<div>\n",
       "<style scoped>\n",
       "    .dataframe tbody tr th:only-of-type {\n",
       "        vertical-align: middle;\n",
       "    }\n",
       "\n",
       "    .dataframe tbody tr th {\n",
       "        vertical-align: top;\n",
       "    }\n",
       "\n",
       "    .dataframe thead th {\n",
       "        text-align: right;\n",
       "    }\n",
       "</style>\n",
       "<table border=\"1\" class=\"dataframe\">\n",
       "  <thead>\n",
       "    <tr style=\"text-align: right;\">\n",
       "      <th></th>\n",
       "      <th>customer_id</th>\n",
       "      <th>credit_lines_outstanding</th>\n",
       "      <th>loan_amt_outstanding</th>\n",
       "      <th>total_debt_outstanding</th>\n",
       "      <th>income</th>\n",
       "      <th>years_employed</th>\n",
       "      <th>fico_score</th>\n",
       "      <th>Prob of default</th>\n",
       "      <th>expected_loss</th>\n",
       "    </tr>\n",
       "  </thead>\n",
       "  <tbody>\n",
       "    <tr>\n",
       "      <th>2390</th>\n",
       "      <td>4254020</td>\n",
       "      <td>1</td>\n",
       "      <td>3033.502993</td>\n",
       "      <td>5459.760802</td>\n",
       "      <td>58145.40500</td>\n",
       "      <td>5</td>\n",
       "      <td>598</td>\n",
       "      <td>0.000012</td>\n",
       "      <td>0.033632</td>\n",
       "    </tr>\n",
       "    <tr>\n",
       "      <th>6803</th>\n",
       "      <td>4153925</td>\n",
       "      <td>1</td>\n",
       "      <td>5131.838746</td>\n",
       "      <td>10273.686330</td>\n",
       "      <td>86735.09997</td>\n",
       "      <td>4</td>\n",
       "      <td>575</td>\n",
       "      <td>0.000004</td>\n",
       "      <td>0.011986</td>\n",
       "    </tr>\n",
       "    <tr>\n",
       "      <th>3226</th>\n",
       "      <td>7240749</td>\n",
       "      <td>0</td>\n",
       "      <td>1599.932207</td>\n",
       "      <td>1077.329553</td>\n",
       "      <td>26191.38070</td>\n",
       "      <td>2</td>\n",
       "      <td>697</td>\n",
       "      <td>0.000355</td>\n",
       "      <td>0.968765</td>\n",
       "    </tr>\n",
       "    <tr>\n",
       "      <th>8630</th>\n",
       "      <td>1771847</td>\n",
       "      <td>0</td>\n",
       "      <td>3939.469863</td>\n",
       "      <td>3022.037280</td>\n",
       "      <td>59835.22980</td>\n",
       "      <td>3</td>\n",
       "      <td>625</td>\n",
       "      <td>0.000015</td>\n",
       "      <td>0.041654</td>\n",
       "    </tr>\n",
       "    <tr>\n",
       "      <th>4898</th>\n",
       "      <td>6631761</td>\n",
       "      <td>0</td>\n",
       "      <td>3857.340486</td>\n",
       "      <td>3290.320625</td>\n",
       "      <td>77903.38542</td>\n",
       "      <td>3</td>\n",
       "      <td>634</td>\n",
       "      <td>0.000006</td>\n",
       "      <td>0.017426</td>\n",
       "    </tr>\n",
       "    <tr>\n",
       "      <th>...</th>\n",
       "      <td>...</td>\n",
       "      <td>...</td>\n",
       "      <td>...</td>\n",
       "      <td>...</td>\n",
       "      <td>...</td>\n",
       "      <td>...</td>\n",
       "      <td>...</td>\n",
       "      <td>...</td>\n",
       "      <td>...</td>\n",
       "    </tr>\n",
       "    <tr>\n",
       "      <th>3506</th>\n",
       "      <td>2397436</td>\n",
       "      <td>3</td>\n",
       "      <td>3669.635064</td>\n",
       "      <td>14239.425930</td>\n",
       "      <td>74670.59076</td>\n",
       "      <td>4</td>\n",
       "      <td>655</td>\n",
       "      <td>0.000358</td>\n",
       "      <td>0.978386</td>\n",
       "    </tr>\n",
       "    <tr>\n",
       "      <th>99</th>\n",
       "      <td>1638898</td>\n",
       "      <td>1</td>\n",
       "      <td>3707.461716</td>\n",
       "      <td>4634.160556</td>\n",
       "      <td>57597.45492</td>\n",
       "      <td>5</td>\n",
       "      <td>633</td>\n",
       "      <td>0.000010</td>\n",
       "      <td>0.028008</td>\n",
       "    </tr>\n",
       "    <tr>\n",
       "      <th>4431</th>\n",
       "      <td>3679461</td>\n",
       "      <td>0</td>\n",
       "      <td>3286.939510</td>\n",
       "      <td>7242.783127</td>\n",
       "      <td>64700.55843</td>\n",
       "      <td>3</td>\n",
       "      <td>613</td>\n",
       "      <td>0.000008</td>\n",
       "      <td>0.022651</td>\n",
       "    </tr>\n",
       "    <tr>\n",
       "      <th>2212</th>\n",
       "      <td>8660570</td>\n",
       "      <td>2</td>\n",
       "      <td>5606.289442</td>\n",
       "      <td>13883.832690</td>\n",
       "      <td>91723.19680</td>\n",
       "      <td>7</td>\n",
       "      <td>657</td>\n",
       "      <td>0.000006</td>\n",
       "      <td>0.015714</td>\n",
       "    </tr>\n",
       "    <tr>\n",
       "      <th>1087</th>\n",
       "      <td>8581973</td>\n",
       "      <td>0</td>\n",
       "      <td>2815.611315</td>\n",
       "      <td>3959.024790</td>\n",
       "      <td>53838.48025</td>\n",
       "      <td>5</td>\n",
       "      <td>638</td>\n",
       "      <td>0.000038</td>\n",
       "      <td>0.104739</td>\n",
       "    </tr>\n",
       "  </tbody>\n",
       "</table>\n",
       "<p>4000 rows × 9 columns</p>\n",
       "</div>"
      ],
      "text/plain": [
       "      customer_id  credit_lines_outstanding  loan_amt_outstanding  \\\n",
       "2390      4254020                         1           3033.502993   \n",
       "6803      4153925                         1           5131.838746   \n",
       "3226      7240749                         0           1599.932207   \n",
       "8630      1771847                         0           3939.469863   \n",
       "4898      6631761                         0           3857.340486   \n",
       "...           ...                       ...                   ...   \n",
       "3506      2397436                         3           3669.635064   \n",
       "99        1638898                         1           3707.461716   \n",
       "4431      3679461                         0           3286.939510   \n",
       "2212      8660570                         2           5606.289442   \n",
       "1087      8581973                         0           2815.611315   \n",
       "\n",
       "      total_debt_outstanding       income  years_employed  fico_score  \\\n",
       "2390             5459.760802  58145.40500               5         598   \n",
       "6803            10273.686330  86735.09997               4         575   \n",
       "3226             1077.329553  26191.38070               2         697   \n",
       "8630             3022.037280  59835.22980               3         625   \n",
       "4898             3290.320625  77903.38542               3         634   \n",
       "...                      ...          ...             ...         ...   \n",
       "3506            14239.425930  74670.59076               4         655   \n",
       "99               4634.160556  57597.45492               5         633   \n",
       "4431             7242.783127  64700.55843               3         613   \n",
       "2212            13883.832690  91723.19680               7         657   \n",
       "1087             3959.024790  53838.48025               5         638   \n",
       "\n",
       "      Prob of default  expected_loss  \n",
       "2390         0.000012       0.033632  \n",
       "6803         0.000004       0.011986  \n",
       "3226         0.000355       0.968765  \n",
       "8630         0.000015       0.041654  \n",
       "4898         0.000006       0.017426  \n",
       "...               ...            ...  \n",
       "3506         0.000358       0.978386  \n",
       "99           0.000010       0.028008  \n",
       "4431         0.000008       0.022651  \n",
       "2212         0.000006       0.015714  \n",
       "1087         0.000038       0.104739  \n",
       "\n",
       "[4000 rows x 9 columns]"
      ]
     },
     "execution_count": 44,
     "metadata": {},
     "output_type": "execute_result"
    }
   ],
   "source": [
    "Xtest"
   ]
  },
  {
   "cell_type": "markdown",
   "id": "ad6ef84aee6f5427",
   "metadata": {
    "collapsed": false
   },
   "source": [
    "## Predicting Probability of Default"
   ]
  },
  {
   "cell_type": "code",
   "execution_count": 45,
   "id": "bbda187e01f01ac4",
   "metadata": {
    "ExecuteTime": {
     "end_time": "2023-09-27T23:03:51.432664600Z",
     "start_time": "2023-09-27T23:03:51.410696300Z"
    },
    "collapsed": false
   },
   "outputs": [],
   "source": [
    "# quantization of FICO score: split FICO scores into bins\n",
    "def quantizeFICO(fico):\n",
    "    if 300 <= fico <= 579:\n",
    "        return 'Poor'\n",
    "    elif 580 <= fico <= 669:\n",
    "        return 'Fair'\n",
    "    elif 670 <= fico <= 739:\n",
    "        return 'Good'\n",
    "    elif 740 <= fico <= 799:\n",
    "        return 'Very good'\n",
    "    elif 800 <= fico <= 850:\n",
    "        return 'Excellent'\n",
    "    else:\n",
    "        return 'invalid'"
   ]
  },
  {
   "cell_type": "code",
   "execution_count": 46,
   "id": "b470b6891227ec26",
   "metadata": {
    "ExecuteTime": {
     "start_time": "2023-09-27T23:01:46.812575700Z"
    },
    "collapsed": false
   },
   "outputs": [],
   "source": [
    "# apply quantization to the data:\n",
    "loan['fico_category'] = loan['fico_score'].apply(quantizeFICO)"
   ]
  },
  {
   "cell_type": "code",
   "execution_count": 47,
   "id": "db71afc962a877e0",
   "metadata": {
    "ExecuteTime": {
     "end_time": "2023-09-27T23:03:56.297356100Z",
     "start_time": "2023-09-27T23:03:56.264443400Z"
    },
    "collapsed": false
   },
   "outputs": [
    {
     "name": "stdout",
     "output_type": "stream",
     "text": [
      "<class 'pandas.core.frame.DataFrame'>\n",
      "RangeIndex: 10000 entries, 0 to 9999\n",
      "Data columns (total 9 columns):\n",
      " #   Column                    Non-Null Count  Dtype  \n",
      "---  ------                    --------------  -----  \n",
      " 0   customer_id               10000 non-null  int64  \n",
      " 1   credit_lines_outstanding  10000 non-null  int64  \n",
      " 2   loan_amt_outstanding      10000 non-null  float64\n",
      " 3   total_debt_outstanding    10000 non-null  float64\n",
      " 4   income                    10000 non-null  float64\n",
      " 5   years_employed            10000 non-null  int64  \n",
      " 6   fico_score                10000 non-null  int64  \n",
      " 7   default                   10000 non-null  int64  \n",
      " 8   fico_category             10000 non-null  object \n",
      "dtypes: float64(3), int64(5), object(1)\n",
      "memory usage: 703.3+ KB\n"
     ]
    }
   ],
   "source": [
    "loan.info()"
   ]
  },
  {
   "cell_type": "code",
   "execution_count": 48,
   "id": "9d191018e832b966",
   "metadata": {
    "ExecuteTime": {
     "end_time": "2023-09-28T00:00:20.411128400Z",
     "start_time": "2023-09-28T00:00:20.382206400Z"
    },
    "collapsed": false
   },
   "outputs": [
    {
     "data": {
      "text/html": [
       "<div>\n",
       "<style scoped>\n",
       "    .dataframe tbody tr th:only-of-type {\n",
       "        vertical-align: middle;\n",
       "    }\n",
       "\n",
       "    .dataframe tbody tr th {\n",
       "        vertical-align: top;\n",
       "    }\n",
       "\n",
       "    .dataframe thead th {\n",
       "        text-align: right;\n",
       "    }\n",
       "</style>\n",
       "<table border=\"1\" class=\"dataframe\">\n",
       "  <thead>\n",
       "    <tr style=\"text-align: right;\">\n",
       "      <th></th>\n",
       "      <th>customer_id</th>\n",
       "      <th>credit_lines_outstanding</th>\n",
       "      <th>loan_amt_outstanding</th>\n",
       "      <th>total_debt_outstanding</th>\n",
       "      <th>income</th>\n",
       "      <th>years_employed</th>\n",
       "      <th>fico_score</th>\n",
       "      <th>Prob of default</th>\n",
       "      <th>expected_loss</th>\n",
       "      <th>fico_category</th>\n",
       "    </tr>\n",
       "  </thead>\n",
       "  <tbody>\n",
       "    <tr>\n",
       "      <th>2390</th>\n",
       "      <td>4254020</td>\n",
       "      <td>1</td>\n",
       "      <td>3033.502993</td>\n",
       "      <td>5459.760802</td>\n",
       "      <td>58145.40500</td>\n",
       "      <td>5</td>\n",
       "      <td>598</td>\n",
       "      <td>0.000012</td>\n",
       "      <td>0.033632</td>\n",
       "      <td>Fair</td>\n",
       "    </tr>\n",
       "    <tr>\n",
       "      <th>6803</th>\n",
       "      <td>4153925</td>\n",
       "      <td>1</td>\n",
       "      <td>5131.838746</td>\n",
       "      <td>10273.686330</td>\n",
       "      <td>86735.09997</td>\n",
       "      <td>4</td>\n",
       "      <td>575</td>\n",
       "      <td>0.000004</td>\n",
       "      <td>0.011986</td>\n",
       "      <td>Poor</td>\n",
       "    </tr>\n",
       "    <tr>\n",
       "      <th>3226</th>\n",
       "      <td>7240749</td>\n",
       "      <td>0</td>\n",
       "      <td>1599.932207</td>\n",
       "      <td>1077.329553</td>\n",
       "      <td>26191.38070</td>\n",
       "      <td>2</td>\n",
       "      <td>697</td>\n",
       "      <td>0.000355</td>\n",
       "      <td>0.968765</td>\n",
       "      <td>Good</td>\n",
       "    </tr>\n",
       "    <tr>\n",
       "      <th>8630</th>\n",
       "      <td>1771847</td>\n",
       "      <td>0</td>\n",
       "      <td>3939.469863</td>\n",
       "      <td>3022.037280</td>\n",
       "      <td>59835.22980</td>\n",
       "      <td>3</td>\n",
       "      <td>625</td>\n",
       "      <td>0.000015</td>\n",
       "      <td>0.041654</td>\n",
       "      <td>Fair</td>\n",
       "    </tr>\n",
       "    <tr>\n",
       "      <th>4898</th>\n",
       "      <td>6631761</td>\n",
       "      <td>0</td>\n",
       "      <td>3857.340486</td>\n",
       "      <td>3290.320625</td>\n",
       "      <td>77903.38542</td>\n",
       "      <td>3</td>\n",
       "      <td>634</td>\n",
       "      <td>0.000006</td>\n",
       "      <td>0.017426</td>\n",
       "      <td>Fair</td>\n",
       "    </tr>\n",
       "    <tr>\n",
       "      <th>...</th>\n",
       "      <td>...</td>\n",
       "      <td>...</td>\n",
       "      <td>...</td>\n",
       "      <td>...</td>\n",
       "      <td>...</td>\n",
       "      <td>...</td>\n",
       "      <td>...</td>\n",
       "      <td>...</td>\n",
       "      <td>...</td>\n",
       "      <td>...</td>\n",
       "    </tr>\n",
       "    <tr>\n",
       "      <th>3506</th>\n",
       "      <td>2397436</td>\n",
       "      <td>3</td>\n",
       "      <td>3669.635064</td>\n",
       "      <td>14239.425930</td>\n",
       "      <td>74670.59076</td>\n",
       "      <td>4</td>\n",
       "      <td>655</td>\n",
       "      <td>0.000358</td>\n",
       "      <td>0.978386</td>\n",
       "      <td>Fair</td>\n",
       "    </tr>\n",
       "    <tr>\n",
       "      <th>99</th>\n",
       "      <td>1638898</td>\n",
       "      <td>1</td>\n",
       "      <td>3707.461716</td>\n",
       "      <td>4634.160556</td>\n",
       "      <td>57597.45492</td>\n",
       "      <td>5</td>\n",
       "      <td>633</td>\n",
       "      <td>0.000010</td>\n",
       "      <td>0.028008</td>\n",
       "      <td>Fair</td>\n",
       "    </tr>\n",
       "    <tr>\n",
       "      <th>4431</th>\n",
       "      <td>3679461</td>\n",
       "      <td>0</td>\n",
       "      <td>3286.939510</td>\n",
       "      <td>7242.783127</td>\n",
       "      <td>64700.55843</td>\n",
       "      <td>3</td>\n",
       "      <td>613</td>\n",
       "      <td>0.000008</td>\n",
       "      <td>0.022651</td>\n",
       "      <td>Fair</td>\n",
       "    </tr>\n",
       "    <tr>\n",
       "      <th>2212</th>\n",
       "      <td>8660570</td>\n",
       "      <td>2</td>\n",
       "      <td>5606.289442</td>\n",
       "      <td>13883.832690</td>\n",
       "      <td>91723.19680</td>\n",
       "      <td>7</td>\n",
       "      <td>657</td>\n",
       "      <td>0.000006</td>\n",
       "      <td>0.015714</td>\n",
       "      <td>Fair</td>\n",
       "    </tr>\n",
       "    <tr>\n",
       "      <th>1087</th>\n",
       "      <td>8581973</td>\n",
       "      <td>0</td>\n",
       "      <td>2815.611315</td>\n",
       "      <td>3959.024790</td>\n",
       "      <td>53838.48025</td>\n",
       "      <td>5</td>\n",
       "      <td>638</td>\n",
       "      <td>0.000038</td>\n",
       "      <td>0.104739</td>\n",
       "      <td>Fair</td>\n",
       "    </tr>\n",
       "  </tbody>\n",
       "</table>\n",
       "<p>4000 rows × 10 columns</p>\n",
       "</div>"
      ],
      "text/plain": [
       "      customer_id  credit_lines_outstanding  loan_amt_outstanding  \\\n",
       "2390      4254020                         1           3033.502993   \n",
       "6803      4153925                         1           5131.838746   \n",
       "3226      7240749                         0           1599.932207   \n",
       "8630      1771847                         0           3939.469863   \n",
       "4898      6631761                         0           3857.340486   \n",
       "...           ...                       ...                   ...   \n",
       "3506      2397436                         3           3669.635064   \n",
       "99        1638898                         1           3707.461716   \n",
       "4431      3679461                         0           3286.939510   \n",
       "2212      8660570                         2           5606.289442   \n",
       "1087      8581973                         0           2815.611315   \n",
       "\n",
       "      total_debt_outstanding       income  years_employed  fico_score  \\\n",
       "2390             5459.760802  58145.40500               5         598   \n",
       "6803            10273.686330  86735.09997               4         575   \n",
       "3226             1077.329553  26191.38070               2         697   \n",
       "8630             3022.037280  59835.22980               3         625   \n",
       "4898             3290.320625  77903.38542               3         634   \n",
       "...                      ...          ...             ...         ...   \n",
       "3506            14239.425930  74670.59076               4         655   \n",
       "99               4634.160556  57597.45492               5         633   \n",
       "4431             7242.783127  64700.55843               3         613   \n",
       "2212            13883.832690  91723.19680               7         657   \n",
       "1087             3959.024790  53838.48025               5         638   \n",
       "\n",
       "      Prob of default  expected_loss fico_category  \n",
       "2390         0.000012       0.033632          Fair  \n",
       "6803         0.000004       0.011986          Poor  \n",
       "3226         0.000355       0.968765          Good  \n",
       "8630         0.000015       0.041654          Fair  \n",
       "4898         0.000006       0.017426          Fair  \n",
       "...               ...            ...           ...  \n",
       "3506         0.000358       0.978386          Fair  \n",
       "99           0.000010       0.028008          Fair  \n",
       "4431         0.000008       0.022651          Fair  \n",
       "2212         0.000006       0.015714          Fair  \n",
       "1087         0.000038       0.104739          Fair  \n",
       "\n",
       "[4000 rows x 10 columns]"
      ]
     },
     "execution_count": 48,
     "metadata": {},
     "output_type": "execute_result"
    }
   ],
   "source": [
    "Xtest['fico_category'] = Xtest['fico_score'].apply(quantizeFICO)\n",
    "Xtest"
   ]
  },
  {
   "cell_type": "code",
   "execution_count": 49,
   "id": "7dbf1fdfbe46d7ee",
   "metadata": {
    "ExecuteTime": {
     "end_time": "2023-09-28T00:00:47.067757500Z",
     "start_time": "2023-09-28T00:00:47.013957200Z"
    },
    "collapsed": false
   },
   "outputs": [
    {
     "data": {
      "text/html": [
       "<div>\n",
       "<style scoped>\n",
       "    .dataframe tbody tr th:only-of-type {\n",
       "        vertical-align: middle;\n",
       "    }\n",
       "\n",
       "    .dataframe tbody tr th {\n",
       "        vertical-align: top;\n",
       "    }\n",
       "\n",
       "    .dataframe thead th {\n",
       "        text-align: right;\n",
       "    }\n",
       "</style>\n",
       "<table border=\"1\" class=\"dataframe\">\n",
       "  <thead>\n",
       "    <tr style=\"text-align: right;\">\n",
       "      <th></th>\n",
       "      <th>customer_id</th>\n",
       "      <th>credit_lines_outstanding</th>\n",
       "      <th>loan_amt_outstanding</th>\n",
       "      <th>total_debt_outstanding</th>\n",
       "      <th>income</th>\n",
       "      <th>years_employed</th>\n",
       "      <th>fico_score</th>\n",
       "      <th>Prob of default</th>\n",
       "      <th>expected_loss</th>\n",
       "      <th>fico_category</th>\n",
       "    </tr>\n",
       "  </thead>\n",
       "  <tbody>\n",
       "    <tr>\n",
       "      <th>7803</th>\n",
       "      <td>7291395</td>\n",
       "      <td>1</td>\n",
       "      <td>3514.373898</td>\n",
       "      <td>5534.786569</td>\n",
       "      <td>68134.16335</td>\n",
       "      <td>5</td>\n",
       "      <td>663</td>\n",
       "      <td>0.000004</td>\n",
       "      <td>0.012883</td>\n",
       "      <td>Fair</td>\n",
       "    </tr>\n",
       "    <tr>\n",
       "      <th>2912</th>\n",
       "      <td>8086988</td>\n",
       "      <td>0</td>\n",
       "      <td>4808.997289</td>\n",
       "      <td>846.620712</td>\n",
       "      <td>83878.82050</td>\n",
       "      <td>4</td>\n",
       "      <td>704</td>\n",
       "      <td>0.000002</td>\n",
       "      <td>0.005588</td>\n",
       "      <td>Good</td>\n",
       "    </tr>\n",
       "    <tr>\n",
       "      <th>8244</th>\n",
       "      <td>3914623</td>\n",
       "      <td>1</td>\n",
       "      <td>5322.357599</td>\n",
       "      <td>10089.678410</td>\n",
       "      <td>84995.64043</td>\n",
       "      <td>5</td>\n",
       "      <td>693</td>\n",
       "      <td>0.000002</td>\n",
       "      <td>0.007766</td>\n",
       "      <td>Good</td>\n",
       "    </tr>\n",
       "    <tr>\n",
       "      <th>3695</th>\n",
       "      <td>3469901</td>\n",
       "      <td>1</td>\n",
       "      <td>3808.427293</td>\n",
       "      <td>6372.428393</td>\n",
       "      <td>63076.46622</td>\n",
       "      <td>7</td>\n",
       "      <td>656</td>\n",
       "      <td>0.000002</td>\n",
       "      <td>0.005415</td>\n",
       "      <td>Fair</td>\n",
       "    </tr>\n",
       "    <tr>\n",
       "      <th>2629</th>\n",
       "      <td>1337395</td>\n",
       "      <td>5</td>\n",
       "      <td>4271.314690</td>\n",
       "      <td>22756.281030</td>\n",
       "      <td>83475.30929</td>\n",
       "      <td>4</td>\n",
       "      <td>438</td>\n",
       "      <td>0.999985</td>\n",
       "      <td>3162.888428</td>\n",
       "      <td>Poor</td>\n",
       "    </tr>\n",
       "    <tr>\n",
       "      <th>...</th>\n",
       "      <td>...</td>\n",
       "      <td>...</td>\n",
       "      <td>...</td>\n",
       "      <td>...</td>\n",
       "      <td>...</td>\n",
       "      <td>...</td>\n",
       "      <td>...</td>\n",
       "      <td>...</td>\n",
       "      <td>...</td>\n",
       "      <td>...</td>\n",
       "    </tr>\n",
       "    <tr>\n",
       "      <th>5667</th>\n",
       "      <td>4437459</td>\n",
       "      <td>0</td>\n",
       "      <td>1712.912777</td>\n",
       "      <td>1209.698471</td>\n",
       "      <td>29131.62730</td>\n",
       "      <td>4</td>\n",
       "      <td>605</td>\n",
       "      <td>0.000062</td>\n",
       "      <td>0.196178</td>\n",
       "      <td>Fair</td>\n",
       "    </tr>\n",
       "    <tr>\n",
       "      <th>324</th>\n",
       "      <td>8099678</td>\n",
       "      <td>2</td>\n",
       "      <td>3973.657805</td>\n",
       "      <td>9369.089493</td>\n",
       "      <td>63687.96336</td>\n",
       "      <td>5</td>\n",
       "      <td>725</td>\n",
       "      <td>0.000007</td>\n",
       "      <td>0.023369</td>\n",
       "      <td>Good</td>\n",
       "    </tr>\n",
       "    <tr>\n",
       "      <th>3157</th>\n",
       "      <td>1720192</td>\n",
       "      <td>0</td>\n",
       "      <td>2229.419378</td>\n",
       "      <td>3043.967766</td>\n",
       "      <td>34820.76913</td>\n",
       "      <td>4</td>\n",
       "      <td>592</td>\n",
       "      <td>0.000079</td>\n",
       "      <td>0.249983</td>\n",
       "      <td>Fair</td>\n",
       "    </tr>\n",
       "    <tr>\n",
       "      <th>5993</th>\n",
       "      <td>1483641</td>\n",
       "      <td>1</td>\n",
       "      <td>5793.687316</td>\n",
       "      <td>9207.734040</td>\n",
       "      <td>98548.46301</td>\n",
       "      <td>6</td>\n",
       "      <td>657</td>\n",
       "      <td>0.000002</td>\n",
       "      <td>0.006388</td>\n",
       "      <td>Fair</td>\n",
       "    </tr>\n",
       "    <tr>\n",
       "      <th>5242</th>\n",
       "      <td>2007041</td>\n",
       "      <td>0</td>\n",
       "      <td>4260.604378</td>\n",
       "      <td>2498.539995</td>\n",
       "      <td>78167.56477</td>\n",
       "      <td>6</td>\n",
       "      <td>740</td>\n",
       "      <td>0.000003</td>\n",
       "      <td>0.009734</td>\n",
       "      <td>Very good</td>\n",
       "    </tr>\n",
       "  </tbody>\n",
       "</table>\n",
       "<p>6000 rows × 10 columns</p>\n",
       "</div>"
      ],
      "text/plain": [
       "      customer_id  credit_lines_outstanding  loan_amt_outstanding  \\\n",
       "7803      7291395                         1           3514.373898   \n",
       "2912      8086988                         0           4808.997289   \n",
       "8244      3914623                         1           5322.357599   \n",
       "3695      3469901                         1           3808.427293   \n",
       "2629      1337395                         5           4271.314690   \n",
       "...           ...                       ...                   ...   \n",
       "5667      4437459                         0           1712.912777   \n",
       "324       8099678                         2           3973.657805   \n",
       "3157      1720192                         0           2229.419378   \n",
       "5993      1483641                         1           5793.687316   \n",
       "5242      2007041                         0           4260.604378   \n",
       "\n",
       "      total_debt_outstanding       income  years_employed  fico_score  \\\n",
       "7803             5534.786569  68134.16335               5         663   \n",
       "2912              846.620712  83878.82050               4         704   \n",
       "8244            10089.678410  84995.64043               5         693   \n",
       "3695             6372.428393  63076.46622               7         656   \n",
       "2629            22756.281030  83475.30929               4         438   \n",
       "...                      ...          ...             ...         ...   \n",
       "5667             1209.698471  29131.62730               4         605   \n",
       "324              9369.089493  63687.96336               5         725   \n",
       "3157             3043.967766  34820.76913               4         592   \n",
       "5993             9207.734040  98548.46301               6         657   \n",
       "5242             2498.539995  78167.56477               6         740   \n",
       "\n",
       "      Prob of default  expected_loss fico_category  \n",
       "7803         0.000004       0.012883          Fair  \n",
       "2912         0.000002       0.005588          Good  \n",
       "8244         0.000002       0.007766          Good  \n",
       "3695         0.000002       0.005415          Fair  \n",
       "2629         0.999985    3162.888428          Poor  \n",
       "...               ...            ...           ...  \n",
       "5667         0.000062       0.196178          Fair  \n",
       "324          0.000007       0.023369          Good  \n",
       "3157         0.000079       0.249983          Fair  \n",
       "5993         0.000002       0.006388          Fair  \n",
       "5242         0.000003       0.009734     Very good  \n",
       "\n",
       "[6000 rows x 10 columns]"
      ]
     },
     "execution_count": 49,
     "metadata": {},
     "output_type": "execute_result"
    }
   ],
   "source": [
    "Xtrain['fico_category'] = Xtrain['fico_score'].apply(quantizeFICO)\n",
    "Xtrain"
   ]
  },
  {
   "cell_type": "code",
   "execution_count": 50,
   "id": "888d268b60d03439",
   "metadata": {
    "ExecuteTime": {
     "end_time": "2023-09-27T23:50:36.926808400Z",
     "start_time": "2023-09-27T23:50:36.892335700Z"
    },
    "collapsed": false
   },
   "outputs": [],
   "source": [
    "from scipy.optimize import minimize"
   ]
  },
  {
   "cell_type": "code",
   "execution_count": 51,
   "id": "bb9d8a46ca574e66",
   "metadata": {
    "ExecuteTime": {
     "end_time": "2023-09-27T23:58:41.350582800Z",
     "start_time": "2023-09-27T23:58:41.314593300Z"
    },
    "collapsed": false
   },
   "outputs": [],
   "source": [
    "#log likelihood function\n",
    "def neg_LogLikelihood(rep, bucket):\n",
    "    mu = rep\n",
    "    sigma = bucket['Prob of default'].std()\n",
    "    logLikelihood = -0.5 * np.sum(((bucket['Prob of default'] - mu) ** 2 )/(sigma ** 2)) - len(bucket) * np.log(sigma * np.sqrt(2 * np.pi))\n",
    "    return -logLikelihood"
   ]
  },
  {
   "cell_type": "code",
   "execution_count": 52,
   "id": "18bea9194c6e5369",
   "metadata": {
    "ExecuteTime": {
     "end_time": "2023-09-28T00:07:26.397452500Z",
     "start_time": "2023-09-28T00:07:26.210844300Z"
    },
    "collapsed": false
   },
   "outputs": [],
   "source": [
    "# Labels of FICO socres \n",
    "labels = ['Poor', 'Fair', 'Good', 'Very good', 'Excellent']\n",
    "repValues = {}\n",
    "for dataset in [Xtest, Xtrain]:\n",
    "    for label in labels: \n",
    "        bucket = dataset[dataset['fico_category'] == label]\n",
    "        \n",
    "        if bucket.empty:\n",
    "            continue\n",
    "        \n",
    "        result = minimize(neg_LogLikelihood, x0= np.mean(bucket['Prob of default']), args=(bucket))\n",
    "        repValues[label] = result.x[0]"
   ]
  },
  {
   "cell_type": "code",
   "execution_count": 53,
   "id": "28927f9e68534413",
   "metadata": {
    "ExecuteTime": {
     "end_time": "2023-09-28T00:10:25.846338500Z",
     "start_time": "2023-09-28T00:10:25.808440500Z"
    },
    "collapsed": false
   },
   "outputs": [
    {
     "name": "stdout",
     "output_type": "stream",
     "text": [
      "{'Very good': 'A', 'Excellent': 'B', 'Good': 'C', 'Fair': 'D', 'Poor': 'E'}\n"
     ]
    }
   ],
   "source": [
    "#dynamic programming for rating\n",
    "\n",
    "ratings = ['A', 'B', 'C', 'D', 'E']\n",
    "\n",
    "sortedlabels = sorted(repValues.keys(), key=lambda x: repValues[x])\n",
    "\n",
    "ratingMap = {label: rating for label, rating in zip(sortedlabels, ratings)}\n",
    "\n",
    "print(ratingMap)"
   ]
  },
  {
   "cell_type": "code",
   "execution_count": 54,
   "id": "6f897f9c21c1e06",
   "metadata": {
    "ExecuteTime": {
     "end_time": "2023-09-28T01:41:31.979247600Z",
     "start_time": "2023-09-28T01:41:31.967257700Z"
    },
    "collapsed": false
   },
   "outputs": [
    {
     "name": "stdout",
     "output_type": "stream",
     "text": [
      "Poor: 0.4296\n",
      "Fair: 0.1698\n",
      "Good: 0.0747\n",
      "Very good: 0.0261\n",
      "Excellent: 0.0500\n"
     ]
    }
   ],
   "source": [
    "for label, value in repValues.items():\n",
    "    print(f\"{label}: {value:.4f}\")"
   ]
  },
  {
   "cell_type": "code",
   "execution_count": null,
   "id": "d9acbda5ff99f9b2",
   "metadata": {
    "collapsed": false
   },
   "outputs": [],
   "source": []
  }
 ],
 "metadata": {
  "kernelspec": {
   "display_name": "Python 3 (ipykernel)",
   "language": "python",
   "name": "python3"
  },
  "language_info": {
   "codemirror_mode": {
    "name": "ipython",
    "version": 3
   },
   "file_extension": ".py",
   "mimetype": "text/x-python",
   "name": "python",
   "nbconvert_exporter": "python",
   "pygments_lexer": "ipython3",
   "version": "3.12.3"
  }
 },
 "nbformat": 4,
 "nbformat_minor": 5
}
