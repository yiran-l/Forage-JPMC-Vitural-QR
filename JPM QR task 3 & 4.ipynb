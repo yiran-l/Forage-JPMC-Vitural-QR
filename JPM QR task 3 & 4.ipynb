{
 "cells": [
  {
   "cell_type": "code",
   "execution_count": 1,
   "id": "initial_id",
   "metadata": {
    "collapsed": true,
    "jupyter": {
     "outputs_hidden": true
    },
    "ExecuteTime": {
     "end_time": "2023-09-27T23:01:29.337715Z",
     "start_time": "2023-09-27T23:01:27.940600900Z"
    }
   },
   "outputs": [],
   "source": [
    "import pandas as pd\n",
    "import numpy as np\n",
    "import matplotlib.pyplot as plt\n",
    "from sklearn.model_selection import train_test_split\n",
    "from sklearn.preprocessing import StandardScaler\n",
    "from sklearn.ensemble import RandomForestClassifier\n",
    "from sklearn.metrics import roc_auc_score"
   ]
  },
  {
   "cell_type": "code",
   "execution_count": 2,
   "id": "bab3a4d6ca0fa7df",
   "metadata": {
    "collapsed": false,
    "ExecuteTime": {
     "end_time": "2023-09-27T23:01:29.353747200Z",
     "start_time": "2023-09-27T23:01:29.339710500Z"
    }
   },
   "outputs": [],
   "source": [
    "loan = pd.read_csv('Task 3 and 4_Loan_Data.csv')"
   ]
  },
  {
   "cell_type": "code",
   "execution_count": 3,
   "id": "9620ef9a1499d999",
   "metadata": {
    "collapsed": false,
    "ExecuteTime": {
     "end_time": "2023-09-27T23:01:29.379916700Z",
     "start_time": "2023-09-27T23:01:29.356739300Z"
    }
   },
   "outputs": [
    {
     "data": {
      "text/plain": "      customer_id  credit_lines_outstanding  loan_amt_outstanding  \\\n0         8153374                         0           5221.545193   \n1         7442532                         5           1958.928726   \n2         2256073                         0           3363.009259   \n3         4885975                         0           4766.648001   \n4         4700614                         1           1345.827718   \n...           ...                       ...                   ...   \n9995      3972488                         0           3033.647103   \n9996      6184073                         1           4146.239304   \n9997      6694516                         2           3088.223727   \n9998      3942961                         0           3288.901666   \n9999      5533570                         1           1917.652480   \n\n      total_debt_outstanding       income  years_employed  fico_score  default  \n0                3915.471226  78039.38546               5         605        0  \n1                8228.752520  26648.43525               2         572        1  \n2                2027.830850  65866.71246               4         602        0  \n3                2501.730397  74356.88347               5         612        0  \n4                1768.826187  23448.32631               6         631        0  \n...                      ...          ...             ...         ...      ...  \n9995             2553.733144  42691.62787               5         697        0  \n9996             5458.163525  79969.50521               8         615        0  \n9997             4813.090925  38192.67591               5         596        0  \n9998             1043.099660  50929.37206               2         647        0  \n9999             3050.248203  30611.62821               6         757        0  \n\n[10000 rows x 8 columns]",
      "text/html": "<div>\n<style scoped>\n    .dataframe tbody tr th:only-of-type {\n        vertical-align: middle;\n    }\n\n    .dataframe tbody tr th {\n        vertical-align: top;\n    }\n\n    .dataframe thead th {\n        text-align: right;\n    }\n</style>\n<table border=\"1\" class=\"dataframe\">\n  <thead>\n    <tr style=\"text-align: right;\">\n      <th></th>\n      <th>customer_id</th>\n      <th>credit_lines_outstanding</th>\n      <th>loan_amt_outstanding</th>\n      <th>total_debt_outstanding</th>\n      <th>income</th>\n      <th>years_employed</th>\n      <th>fico_score</th>\n      <th>default</th>\n    </tr>\n  </thead>\n  <tbody>\n    <tr>\n      <th>0</th>\n      <td>8153374</td>\n      <td>0</td>\n      <td>5221.545193</td>\n      <td>3915.471226</td>\n      <td>78039.38546</td>\n      <td>5</td>\n      <td>605</td>\n      <td>0</td>\n    </tr>\n    <tr>\n      <th>1</th>\n      <td>7442532</td>\n      <td>5</td>\n      <td>1958.928726</td>\n      <td>8228.752520</td>\n      <td>26648.43525</td>\n      <td>2</td>\n      <td>572</td>\n      <td>1</td>\n    </tr>\n    <tr>\n      <th>2</th>\n      <td>2256073</td>\n      <td>0</td>\n      <td>3363.009259</td>\n      <td>2027.830850</td>\n      <td>65866.71246</td>\n      <td>4</td>\n      <td>602</td>\n      <td>0</td>\n    </tr>\n    <tr>\n      <th>3</th>\n      <td>4885975</td>\n      <td>0</td>\n      <td>4766.648001</td>\n      <td>2501.730397</td>\n      <td>74356.88347</td>\n      <td>5</td>\n      <td>612</td>\n      <td>0</td>\n    </tr>\n    <tr>\n      <th>4</th>\n      <td>4700614</td>\n      <td>1</td>\n      <td>1345.827718</td>\n      <td>1768.826187</td>\n      <td>23448.32631</td>\n      <td>6</td>\n      <td>631</td>\n      <td>0</td>\n    </tr>\n    <tr>\n      <th>...</th>\n      <td>...</td>\n      <td>...</td>\n      <td>...</td>\n      <td>...</td>\n      <td>...</td>\n      <td>...</td>\n      <td>...</td>\n      <td>...</td>\n    </tr>\n    <tr>\n      <th>9995</th>\n      <td>3972488</td>\n      <td>0</td>\n      <td>3033.647103</td>\n      <td>2553.733144</td>\n      <td>42691.62787</td>\n      <td>5</td>\n      <td>697</td>\n      <td>0</td>\n    </tr>\n    <tr>\n      <th>9996</th>\n      <td>6184073</td>\n      <td>1</td>\n      <td>4146.239304</td>\n      <td>5458.163525</td>\n      <td>79969.50521</td>\n      <td>8</td>\n      <td>615</td>\n      <td>0</td>\n    </tr>\n    <tr>\n      <th>9997</th>\n      <td>6694516</td>\n      <td>2</td>\n      <td>3088.223727</td>\n      <td>4813.090925</td>\n      <td>38192.67591</td>\n      <td>5</td>\n      <td>596</td>\n      <td>0</td>\n    </tr>\n    <tr>\n      <th>9998</th>\n      <td>3942961</td>\n      <td>0</td>\n      <td>3288.901666</td>\n      <td>1043.099660</td>\n      <td>50929.37206</td>\n      <td>2</td>\n      <td>647</td>\n      <td>0</td>\n    </tr>\n    <tr>\n      <th>9999</th>\n      <td>5533570</td>\n      <td>1</td>\n      <td>1917.652480</td>\n      <td>3050.248203</td>\n      <td>30611.62821</td>\n      <td>6</td>\n      <td>757</td>\n      <td>0</td>\n    </tr>\n  </tbody>\n</table>\n<p>10000 rows × 8 columns</p>\n</div>"
     },
     "execution_count": 3,
     "metadata": {},
     "output_type": "execute_result"
    }
   ],
   "source": [
    "loan"
   ]
  },
  {
   "cell_type": "code",
   "execution_count": 4,
   "id": "3a6f51a0b01227f9",
   "metadata": {
    "collapsed": false,
    "ExecuteTime": {
     "end_time": "2023-09-27T23:01:29.436764700Z",
     "start_time": "2023-09-27T23:01:29.371188Z"
    }
   },
   "outputs": [],
   "source": [
    "recoverRate = 0.1"
   ]
  },
  {
   "cell_type": "code",
   "execution_count": 5,
   "id": "681c69c2afc9d33",
   "metadata": {
    "collapsed": false,
    "ExecuteTime": {
     "end_time": "2023-09-27T23:01:29.462405500Z",
     "start_time": "2023-09-27T23:01:29.425797200Z"
    }
   },
   "outputs": [],
   "source": [
    "#1. spliting the data into train and test data: using 60/40 -- 60% training & 40% \n",
    "X = loan.drop(['default'], axis=1)\n",
    "y = loan['default'] # Target variable: default (1 if defaulted, 0 otherwise)\n",
    "\n",
    "#spliting data into training and testing sets\n",
    "Xtrain, Xtest, ytrain, ytest = train_test_split(X, y, test_size= 0.4, random_state=34) \n",
    "\n",
    "scaler = StandardScaler()\n",
    "xtrain_scaled = scaler.fit_transform(Xtrain)\n",
    "xtest_scaled = scaler.transform(Xtest)"
   ]
  },
  {
   "cell_type": "code",
   "execution_count": 6,
   "id": "67042a75cd7a73d6",
   "metadata": {
    "collapsed": false,
    "ExecuteTime": {
     "end_time": "2023-09-27T23:01:29.494790200Z",
     "start_time": "2023-09-27T23:01:29.448760500Z"
    }
   },
   "outputs": [
    {
     "data": {
      "text/plain": "array([[ 0.99575889, -0.25665542, -0.45989617, ..., -0.09892904,\n         0.29460452,  0.42742093],\n       [ 1.34208885, -0.82976019,  0.45617466, ...,  0.68214917,\n        -0.3439891 ,  1.10305064],\n       [-0.4741853 , -0.25665542,  0.81942656, ...,  0.73755359,\n         0.29460452,  0.92178413],\n       ...,\n       [-1.42944407, -0.82976019, -1.36912535, ..., -1.75157641,\n        -0.3439891 , -0.74257198],\n       [-1.5324172 , -0.25665542,  1.15293777, ...,  1.40989687,\n         0.93319814,  0.32854829],\n       [-1.3045757 , -0.82976019,  0.06813382, ...,  0.39881893,\n         0.93319814,  1.69628648]])"
     },
     "execution_count": 6,
     "metadata": {},
     "output_type": "execute_result"
    }
   ],
   "source": [
    "xtrain_scaled #scaled training data"
   ]
  },
  {
   "cell_type": "code",
   "execution_count": 7,
   "id": "c0898e44cc4e4154",
   "metadata": {
    "collapsed": false,
    "ExecuteTime": {
     "end_time": "2023-09-27T23:01:30.423011800Z",
     "start_time": "2023-09-27T23:01:29.472341200Z"
    }
   },
   "outputs": [],
   "source": [
    "# try random forest classifier to predict default\n",
    "rfClassifier = RandomForestClassifier(random_state=34)\n",
    "rfClassifier.fit(xtrain_scaled, ytrain)\n",
    "\n",
    "# predicting default probabilities on the test set\n",
    "yPredictP_rf = rfClassifier.predict_proba(xtest_scaled)[:,1]\n",
    "\n",
    "# Evaluating the model's performance using ROC-AUC score\n",
    "roc_auc_rf = roc_auc_score(ytest, yPredictP_rf)"
   ]
  },
  {
   "cell_type": "code",
   "execution_count": 8,
   "id": "5a476c2d761c202e",
   "metadata": {
    "collapsed": false,
    "ExecuteTime": {
     "end_time": "2023-09-27T23:01:30.438968200Z",
     "start_time": "2023-09-27T23:01:30.422014200Z"
    }
   },
   "outputs": [
    {
     "data": {
      "text/plain": "0.9997592212127956"
     },
     "execution_count": 8,
     "metadata": {},
     "output_type": "execute_result"
    }
   ],
   "source": [
    "roc_auc_rf"
   ]
  },
  {
   "cell_type": "markdown",
   "id": "1521dd5886a6495a",
   "metadata": {
    "collapsed": false
   },
   "source": [
    "ROC_AUC score is exceptional for the Random Forest Classifier, where the ROC_AUC ranges from 0 to 1. "
   ]
  },
  {
   "cell_type": "code",
   "execution_count": 9,
   "id": "ada08e492c6d9470",
   "metadata": {
    "collapsed": false,
    "ExecuteTime": {
     "end_time": "2023-09-27T23:01:30.479858300Z",
     "start_time": "2023-09-27T23:01:30.437971600Z"
    }
   },
   "outputs": [],
   "source": [
    "# try a different method: Decision Tree\n",
    "from sklearn.tree import DecisionTreeClassifier"
   ]
  },
  {
   "cell_type": "code",
   "execution_count": 10,
   "id": "ef7affdd88f5ae5e",
   "metadata": {
    "collapsed": false,
    "ExecuteTime": {
     "end_time": "2023-09-27T23:01:30.504794Z",
     "start_time": "2023-09-27T23:01:30.452931300Z"
    }
   },
   "outputs": [],
   "source": [
    "#training the decision tree classifier\n",
    "dtClassifier = DecisionTreeClassifier(random_state=34)\n",
    "dtClassifier.fit(xtrain_scaled, ytrain)\n",
    "\n",
    "# predicting default prob on test set\n",
    "yPredictP_dt = dtClassifier.predict_proba(xtest_scaled)[:,1]\n",
    "\n",
    "#evaluating the model's performance using ROC_AUC socre\n",
    "roc_auc_dt = roc_auc_score(ytest, yPredictP_dt)"
   ]
  },
  {
   "cell_type": "code",
   "execution_count": 11,
   "id": "5d4d38c6bae4c7ce",
   "metadata": {
    "collapsed": false,
    "ExecuteTime": {
     "end_time": "2023-09-27T23:01:30.541693900Z",
     "start_time": "2023-09-27T23:01:30.498810200Z"
    }
   },
   "outputs": [
    {
     "data": {
      "text/plain": "0.9900602418279679"
     },
     "execution_count": 11,
     "metadata": {},
     "output_type": "execute_result"
    }
   ],
   "source": [
    "roc_auc_dt"
   ]
  },
  {
   "cell_type": "code",
   "execution_count": 12,
   "id": "b059d22beb79c06",
   "metadata": {
    "collapsed": false,
    "ExecuteTime": {
     "end_time": "2023-09-27T23:01:30.553660400Z",
     "start_time": "2023-09-27T23:01:30.513769600Z"
    }
   },
   "outputs": [],
   "source": [
    "# try gradient boosting\n",
    "from sklearn.ensemble import GradientBoostingClassifier"
   ]
  },
  {
   "cell_type": "code",
   "execution_count": 13,
   "id": "d519abeddb69dab4",
   "metadata": {
    "collapsed": false,
    "ExecuteTime": {
     "end_time": "2023-09-27T23:01:32.774742800Z",
     "start_time": "2023-09-27T23:01:30.528728800Z"
    }
   },
   "outputs": [],
   "source": [
    "# training\n",
    "gbClassifier = GradientBoostingClassifier(random_state=34)\n",
    "gbClassifier.fit(xtrain_scaled, ytrain)\n",
    "\n",
    "# predict\n",
    "yPredictP_gb = gbClassifier.predict_proba(xtest_scaled)[:,1]\n",
    "\n",
    "#evaluation \n",
    "\n",
    "roc_auc_gb = roc_auc_score(ytest, yPredictP_gb)\n"
   ]
  },
  {
   "cell_type": "code",
   "execution_count": 14,
   "id": "8d447660e8d99e87",
   "metadata": {
    "collapsed": false,
    "ExecuteTime": {
     "end_time": "2023-09-27T23:01:32.795714Z",
     "start_time": "2023-09-27T23:01:32.779729700Z"
    }
   },
   "outputs": [
    {
     "data": {
      "text/plain": "0.9997618851483137"
     },
     "execution_count": 14,
     "metadata": {},
     "output_type": "execute_result"
    }
   ],
   "source": [
    "roc_auc_gb"
   ]
  },
  {
   "cell_type": "code",
   "execution_count": 15,
   "outputs": [],
   "source": [
    "import xgboost as xgb"
   ],
   "metadata": {
    "collapsed": false,
    "ExecuteTime": {
     "end_time": "2023-09-27T23:01:32.832161700Z",
     "start_time": "2023-09-27T23:01:32.792694100Z"
    }
   },
   "id": "1b10cc806dc7eb9a"
  },
  {
   "cell_type": "code",
   "execution_count": 16,
   "outputs": [
    {
     "data": {
      "text/plain": "XGBClassifier(base_score=None, booster=None, callbacks=None,\n              colsample_bylevel=None, colsample_bynode=None,\n              colsample_bytree=None, device=None, early_stopping_rounds=None,\n              enable_categorical=False, eval_metric='auc', feature_types=None,\n              gamma=None, grow_policy=None, importance_type=None,\n              interaction_constraints=None, learning_rate=None, max_bin=None,\n              max_cat_threshold=None, max_cat_to_onehot=None,\n              max_delta_step=None, max_depth=None, max_leaves=None,\n              min_child_weight=None, missing=nan, monotone_constraints=None,\n              multi_strategy=None, n_estimators=None, n_jobs=None,\n              num_parallel_tree=None, random_state=34, ...)",
      "text/html": "<style>#sk-container-id-1 {color: black;}#sk-container-id-1 pre{padding: 0;}#sk-container-id-1 div.sk-toggleable {background-color: white;}#sk-container-id-1 label.sk-toggleable__label {cursor: pointer;display: block;width: 100%;margin-bottom: 0;padding: 0.3em;box-sizing: border-box;text-align: center;}#sk-container-id-1 label.sk-toggleable__label-arrow:before {content: \"▸\";float: left;margin-right: 0.25em;color: #696969;}#sk-container-id-1 label.sk-toggleable__label-arrow:hover:before {color: black;}#sk-container-id-1 div.sk-estimator:hover label.sk-toggleable__label-arrow:before {color: black;}#sk-container-id-1 div.sk-toggleable__content {max-height: 0;max-width: 0;overflow: hidden;text-align: left;background-color: #f0f8ff;}#sk-container-id-1 div.sk-toggleable__content pre {margin: 0.2em;color: black;border-radius: 0.25em;background-color: #f0f8ff;}#sk-container-id-1 input.sk-toggleable__control:checked~div.sk-toggleable__content {max-height: 200px;max-width: 100%;overflow: auto;}#sk-container-id-1 input.sk-toggleable__control:checked~label.sk-toggleable__label-arrow:before {content: \"▾\";}#sk-container-id-1 div.sk-estimator input.sk-toggleable__control:checked~label.sk-toggleable__label {background-color: #d4ebff;}#sk-container-id-1 div.sk-label input.sk-toggleable__control:checked~label.sk-toggleable__label {background-color: #d4ebff;}#sk-container-id-1 input.sk-hidden--visually {border: 0;clip: rect(1px 1px 1px 1px);clip: rect(1px, 1px, 1px, 1px);height: 1px;margin: -1px;overflow: hidden;padding: 0;position: absolute;width: 1px;}#sk-container-id-1 div.sk-estimator {font-family: monospace;background-color: #f0f8ff;border: 1px dotted black;border-radius: 0.25em;box-sizing: border-box;margin-bottom: 0.5em;}#sk-container-id-1 div.sk-estimator:hover {background-color: #d4ebff;}#sk-container-id-1 div.sk-parallel-item::after {content: \"\";width: 100%;border-bottom: 1px solid gray;flex-grow: 1;}#sk-container-id-1 div.sk-label:hover label.sk-toggleable__label {background-color: #d4ebff;}#sk-container-id-1 div.sk-serial::before {content: \"\";position: absolute;border-left: 1px solid gray;box-sizing: border-box;top: 0;bottom: 0;left: 50%;z-index: 0;}#sk-container-id-1 div.sk-serial {display: flex;flex-direction: column;align-items: center;background-color: white;padding-right: 0.2em;padding-left: 0.2em;position: relative;}#sk-container-id-1 div.sk-item {position: relative;z-index: 1;}#sk-container-id-1 div.sk-parallel {display: flex;align-items: stretch;justify-content: center;background-color: white;position: relative;}#sk-container-id-1 div.sk-item::before, #sk-container-id-1 div.sk-parallel-item::before {content: \"\";position: absolute;border-left: 1px solid gray;box-sizing: border-box;top: 0;bottom: 0;left: 50%;z-index: -1;}#sk-container-id-1 div.sk-parallel-item {display: flex;flex-direction: column;z-index: 1;position: relative;background-color: white;}#sk-container-id-1 div.sk-parallel-item:first-child::after {align-self: flex-end;width: 50%;}#sk-container-id-1 div.sk-parallel-item:last-child::after {align-self: flex-start;width: 50%;}#sk-container-id-1 div.sk-parallel-item:only-child::after {width: 0;}#sk-container-id-1 div.sk-dashed-wrapped {border: 1px dashed gray;margin: 0 0.4em 0.5em 0.4em;box-sizing: border-box;padding-bottom: 0.4em;background-color: white;}#sk-container-id-1 div.sk-label label {font-family: monospace;font-weight: bold;display: inline-block;line-height: 1.2em;}#sk-container-id-1 div.sk-label-container {text-align: center;}#sk-container-id-1 div.sk-container {/* jupyter's `normalize.less` sets `[hidden] { display: none; }` but bootstrap.min.css set `[hidden] { display: none !important; }` so we also need the `!important` here to be able to override the default hidden behavior on the sphinx rendered scikit-learn.org. See: https://github.com/scikit-learn/scikit-learn/issues/21755 */display: inline-block !important;position: relative;}#sk-container-id-1 div.sk-text-repr-fallback {display: none;}</style><div id=\"sk-container-id-1\" class=\"sk-top-container\"><div class=\"sk-text-repr-fallback\"><pre>XGBClassifier(base_score=None, booster=None, callbacks=None,\n              colsample_bylevel=None, colsample_bynode=None,\n              colsample_bytree=None, device=None, early_stopping_rounds=None,\n              enable_categorical=False, eval_metric=&#x27;auc&#x27;, feature_types=None,\n              gamma=None, grow_policy=None, importance_type=None,\n              interaction_constraints=None, learning_rate=None, max_bin=None,\n              max_cat_threshold=None, max_cat_to_onehot=None,\n              max_delta_step=None, max_depth=None, max_leaves=None,\n              min_child_weight=None, missing=nan, monotone_constraints=None,\n              multi_strategy=None, n_estimators=None, n_jobs=None,\n              num_parallel_tree=None, random_state=34, ...)</pre><b>In a Jupyter environment, please rerun this cell to show the HTML representation or trust the notebook. <br />On GitHub, the HTML representation is unable to render, please try loading this page with nbviewer.org.</b></div><div class=\"sk-container\" hidden><div class=\"sk-item\"><div class=\"sk-estimator sk-toggleable\"><input class=\"sk-toggleable__control sk-hidden--visually\" id=\"sk-estimator-id-1\" type=\"checkbox\" checked><label for=\"sk-estimator-id-1\" class=\"sk-toggleable__label sk-toggleable__label-arrow\">XGBClassifier</label><div class=\"sk-toggleable__content\"><pre>XGBClassifier(base_score=None, booster=None, callbacks=None,\n              colsample_bylevel=None, colsample_bynode=None,\n              colsample_bytree=None, device=None, early_stopping_rounds=None,\n              enable_categorical=False, eval_metric=&#x27;auc&#x27;, feature_types=None,\n              gamma=None, grow_policy=None, importance_type=None,\n              interaction_constraints=None, learning_rate=None, max_bin=None,\n              max_cat_threshold=None, max_cat_to_onehot=None,\n              max_delta_step=None, max_depth=None, max_leaves=None,\n              min_child_weight=None, missing=nan, monotone_constraints=None,\n              multi_strategy=None, n_estimators=None, n_jobs=None,\n              num_parallel_tree=None, random_state=34, ...)</pre></div></div></div></div></div>"
     },
     "execution_count": 16,
     "metadata": {},
     "output_type": "execute_result"
    }
   ],
   "source": [
    "xgbClassifier = xgb.XGBClassifier(\n",
    "    objective = 'binary:logistic', \n",
    "    eval_metric = 'auc', \n",
    "    use_label_encoder = False, # To avoid a deprecation warning\n",
    "    random_state = 34\n",
    " )\n",
    "\n",
    "xgbClassifier.fit(xtrain_scaled, ytrain)"
   ],
   "metadata": {
    "collapsed": false,
    "ExecuteTime": {
     "end_time": "2023-09-27T23:01:32.939872500Z",
     "start_time": "2023-09-27T23:01:32.826176200Z"
    }
   },
   "id": "7117c4f53cbffc40"
  },
  {
   "cell_type": "code",
   "execution_count": 17,
   "outputs": [
    {
     "data": {
      "text/plain": "0.9999213114431604"
     },
     "execution_count": 17,
     "metadata": {},
     "output_type": "execute_result"
    }
   ],
   "source": [
    "roc_auc_xgb = roc_auc_score(ytest, xgbClassifier.predict_proba(xtest_scaled)[:, 1])\n",
    "\n",
    "roc_auc_xgb"
   ],
   "metadata": {
    "collapsed": false,
    "ExecuteTime": {
     "end_time": "2023-09-27T23:01:33.005205Z",
     "start_time": "2023-09-27T23:01:32.935883700Z"
    }
   },
   "id": "b9399683dccac18c"
  },
  {
   "cell_type": "code",
   "execution_count": 18,
   "id": "3e09487b44c6b85e",
   "metadata": {
    "collapsed": false,
    "ExecuteTime": {
     "end_time": "2023-09-27T23:01:33.022160600Z",
     "start_time": "2023-09-27T23:01:32.961815400Z"
    }
   },
   "outputs": [],
   "source": [
    "# cross-validation to detect the overfitting and a more robust estimate of a model's performance\n",
    "from sklearn.model_selection import cross_val_score"
   ]
  },
  {
   "cell_type": "code",
   "execution_count": 19,
   "id": "8357d81c109d2098",
   "metadata": {
    "collapsed": false,
    "ExecuteTime": {
     "end_time": "2023-09-27T23:01:36.564330500Z",
     "start_time": "2023-09-27T23:01:32.979766100Z"
    }
   },
   "outputs": [
    {
     "name": "stdout",
     "output_type": "stream",
     "text": [
      "Random Forest - CV Mean: 0.9996887755102042, CV Std: 0.00022858185679652617\n"
     ]
    }
   ],
   "source": [
    "# cross validation for Random Forest\n",
    "cv_rf = cross_val_score(rfClassifier, xtrain_scaled, ytrain, cv=5, scoring='roc_auc')\n",
    "print(f\"Random Forest - CV Mean: {cv_rf.mean()}, CV Std: {cv_rf.std()}\")"
   ]
  },
  {
   "cell_type": "code",
   "execution_count": 20,
   "id": "1b74d432f932830e",
   "metadata": {
    "collapsed": false,
    "ExecuteTime": {
     "end_time": "2023-09-27T23:01:36.689510200Z",
     "start_time": "2023-09-27T23:01:36.567324Z"
    }
   },
   "outputs": [
    {
     "name": "stdout",
     "output_type": "stream",
     "text": [
      "Decision Tree - DT Mean: 0.9879591836734694, DT Std: 0.005336217958534341\n"
     ]
    }
   ],
   "source": [
    "# cross validation for Decision Tree\n",
    "cv_dt = cross_val_score(dtClassifier, xtrain_scaled, ytrain, cv=5, scoring='roc_auc')\n",
    "print(f\"Decision Tree - DT Mean: {cv_dt.mean()}, DT Std: {cv_dt.std()}\")"
   ]
  },
  {
   "cell_type": "code",
   "execution_count": 21,
   "id": "1cf81fe7d3e31bcd",
   "metadata": {
    "collapsed": false,
    "ExecuteTime": {
     "end_time": "2023-09-27T23:01:45.569879100Z",
     "start_time": "2023-09-27T23:01:36.691504Z"
    }
   },
   "outputs": [
    {
     "name": "stdout",
     "output_type": "stream",
     "text": [
      "Gradient Boosting - GB Mean: 0.9996971243042673, GB Std: 0.0002576679857541509\n"
     ]
    }
   ],
   "source": [
    "# cross validation for Gradient Boosting\n",
    "cv_gb = cross_val_score(gbClassifier, xtrain_scaled, ytrain, cv=5, scoring='roc_auc')\n",
    "print(f\"Gradient Boosting - GB Mean: {cv_gb.mean()}, GB Std: {cv_gb.std()}\")"
   ]
  },
  {
   "cell_type": "code",
   "execution_count": 22,
   "outputs": [
    {
     "name": "stdout",
     "output_type": "stream",
     "text": [
      "XGBoosting - XGB Mean: 0.9998293135435992, XGB Std: 0.0001677830418796913\n"
     ]
    }
   ],
   "source": [
    "# cross validation for XGBoost\n",
    "cv_xgb = cross_val_score(xgbClassifier, xtrain_scaled, ytrain, cv=5, scoring='roc_auc')\n",
    "print(f\"XGBoosting - XGB Mean: {cv_xgb.mean()}, XGB Std: {cv_xgb.std()}\")"
   ],
   "metadata": {
    "collapsed": false,
    "ExecuteTime": {
     "end_time": "2023-09-27T23:01:45.919943200Z",
     "start_time": "2023-09-27T23:01:45.564893Z"
    }
   },
   "id": "d78b2a334f5a781d"
  },
  {
   "cell_type": "markdown",
   "id": "fc3e5114387e3ec5",
   "metadata": {
    "collapsed": false
   },
   "source": [
    "The cross validation shows that both random forest and gradient boosting hold pretty good result, whose results are very close to 1.\n",
    "Although the random forest would give a faster prediction speed, and gradient boosting for the better performance than random forest, the XGBoost would provide a better performance and a faster speed because of its optimiztion and parallel processing.  "
   ]
  },
  {
   "cell_type": "markdown",
   "id": "f726b79b12e04b81",
   "metadata": {
    "collapsed": false
   },
   "source": [
    "The expected loss is calculated as: \n",
    "\n",
    "$$ Expected\\ loss = \\mathbb{P}(Default) * loan\\ amount * (1 - Recovery\\ Rate) $$"
   ]
  },
  {
   "cell_type": "code",
   "execution_count": 23,
   "id": "731c9487bf0aee10",
   "metadata": {
    "collapsed": false,
    "ExecuteTime": {
     "end_time": "2023-09-27T23:01:45.934902800Z",
     "start_time": "2023-09-27T23:01:45.912962Z"
    }
   },
   "outputs": [],
   "source": [
    "def predictDefaultP(loanFestures, model, scaler):\n",
    "    featureScaled = scaler.transform(loanFestures)\n",
    "    \n",
    "    defaultP = model.predict_proba(featureScaled)[:,1]\n",
    "    \n",
    "    return defaultP\n",
    "    "
   ]
  },
  {
   "cell_type": "code",
   "execution_count": 24,
   "id": "36ed45273758af38",
   "metadata": {
    "collapsed": false,
    "ExecuteTime": {
     "end_time": "2023-09-27T23:01:45.984769300Z",
     "start_time": "2023-09-27T23:01:45.925929100Z"
    }
   },
   "outputs": [],
   "source": [
    "prob_default_test = predictDefaultP(Xtest, xgbClassifier, scaler)\n",
    "\n",
    "Xtest['Prob of default'] = prob_default_test"
   ]
  },
  {
   "cell_type": "code",
   "execution_count": 25,
   "outputs": [],
   "source": [
    "prob_default_train = predictDefaultP(Xtrain, xgbClassifier,scaler)\n",
    "Xtrain['Prob of default'] = prob_default_train"
   ],
   "metadata": {
    "collapsed": false,
    "ExecuteTime": {
     "end_time": "2023-09-27T23:01:46.003718900Z",
     "start_time": "2023-09-27T23:01:45.939890400Z"
    }
   },
   "id": "d5dadc68bb36e5a5"
  },
  {
   "cell_type": "code",
   "execution_count": 26,
   "id": "3e4e278b7297c2f1",
   "metadata": {
    "collapsed": false,
    "ExecuteTime": {
     "end_time": "2023-09-27T23:01:46.003718900Z",
     "start_time": "2023-09-27T23:01:45.956845700Z"
    }
   },
   "outputs": [],
   "source": [
    "def Eloss(DefaultP, loanAmt, recoveryRate = 0.1):\n",
    "    \n",
    "    return DefaultP * loanAmt * (1-recoveryRate)"
   ]
  },
  {
   "cell_type": "code",
   "execution_count": 29,
   "id": "9d65927a5f18d351",
   "metadata": {
    "collapsed": false,
    "ExecuteTime": {
     "end_time": "2023-09-27T23:02:38.585981500Z",
     "start_time": "2023-09-27T23:02:38.576009600Z"
    }
   },
   "outputs": [],
   "source": [
    "expected_loss_test = Eloss(prob_default_test, Xtest['loan_amt_outstanding'].values[0])\n",
    "Xtest['expected_loss'] = expected_loss_test"
   ]
  },
  {
   "cell_type": "code",
   "execution_count": 30,
   "outputs": [],
   "source": [
    "expected_loss_train = Eloss(prob_default_train, Xtrain['loan_amt_outstanding'].values[0])\n",
    "Xtrain['expected_loss'] = expected_loss_train"
   ],
   "metadata": {
    "collapsed": false,
    "ExecuteTime": {
     "end_time": "2023-09-27T23:03:44.163103900Z",
     "start_time": "2023-09-27T23:03:44.144608300Z"
    }
   },
   "id": "afaba9057d68de3e"
  },
  {
   "cell_type": "markdown",
   "source": [
    "Task 4"
   ],
   "metadata": {
    "collapsed": false
   },
   "id": "ad6ef84aee6f5427"
  },
  {
   "cell_type": "code",
   "execution_count": 31,
   "id": "bbda187e01f01ac4",
   "metadata": {
    "collapsed": false,
    "ExecuteTime": {
     "end_time": "2023-09-27T23:03:51.432664600Z",
     "start_time": "2023-09-27T23:03:51.410696300Z"
    }
   },
   "outputs": [],
   "source": [
    "# quantization of FICO score: split FICO scores into bins\n",
    "def quantizeFICO(fico):\n",
    "    if 300 <= fico <= 579:\n",
    "        return 'Poor'\n",
    "    elif 580 <= fico <= 669:\n",
    "        return 'Fair'\n",
    "    elif 670 <= fico <= 739:\n",
    "        return 'Good'\n",
    "    elif 740 <= fico <= 799:\n",
    "        return 'Very good'\n",
    "    elif 800 <= fico <= 850:\n",
    "        return 'Excellent'\n",
    "    else:\n",
    "        return 'invalid'"
   ]
  },
  {
   "cell_type": "code",
   "execution_count": null,
   "outputs": [],
   "source": [
    "# apply quantization to the data:\n",
    "loan['fico_category'] = loan['fico_score'].apply(quantizeFICO)"
   ],
   "metadata": {
    "collapsed": false,
    "ExecuteTime": {
     "start_time": "2023-09-27T23:01:46.812575700Z"
    }
   },
   "id": "b470b6891227ec26"
  },
  {
   "cell_type": "code",
   "execution_count": 32,
   "outputs": [
    {
     "data": {
      "text/plain": "      customer_id  credit_lines_outstanding  loan_amt_outstanding  \\\n0         8153374                         0           5221.545193   \n1         7442532                         5           1958.928726   \n2         2256073                         0           3363.009259   \n3         4885975                         0           4766.648001   \n4         4700614                         1           1345.827718   \n...           ...                       ...                   ...   \n9995      3972488                         0           3033.647103   \n9996      6184073                         1           4146.239304   \n9997      6694516                         2           3088.223727   \n9998      3942961                         0           3288.901666   \n9999      5533570                         1           1917.652480   \n\n      total_debt_outstanding       income  years_employed  fico_score  default  \n0                3915.471226  78039.38546               5         605        0  \n1                8228.752520  26648.43525               2         572        1  \n2                2027.830850  65866.71246               4         602        0  \n3                2501.730397  74356.88347               5         612        0  \n4                1768.826187  23448.32631               6         631        0  \n...                      ...          ...             ...         ...      ...  \n9995             2553.733144  42691.62787               5         697        0  \n9996             5458.163525  79969.50521               8         615        0  \n9997             4813.090925  38192.67591               5         596        0  \n9998             1043.099660  50929.37206               2         647        0  \n9999             3050.248203  30611.62821               6         757        0  \n\n[10000 rows x 8 columns]",
      "text/html": "<div>\n<style scoped>\n    .dataframe tbody tr th:only-of-type {\n        vertical-align: middle;\n    }\n\n    .dataframe tbody tr th {\n        vertical-align: top;\n    }\n\n    .dataframe thead th {\n        text-align: right;\n    }\n</style>\n<table border=\"1\" class=\"dataframe\">\n  <thead>\n    <tr style=\"text-align: right;\">\n      <th></th>\n      <th>customer_id</th>\n      <th>credit_lines_outstanding</th>\n      <th>loan_amt_outstanding</th>\n      <th>total_debt_outstanding</th>\n      <th>income</th>\n      <th>years_employed</th>\n      <th>fico_score</th>\n      <th>default</th>\n    </tr>\n  </thead>\n  <tbody>\n    <tr>\n      <th>0</th>\n      <td>8153374</td>\n      <td>0</td>\n      <td>5221.545193</td>\n      <td>3915.471226</td>\n      <td>78039.38546</td>\n      <td>5</td>\n      <td>605</td>\n      <td>0</td>\n    </tr>\n    <tr>\n      <th>1</th>\n      <td>7442532</td>\n      <td>5</td>\n      <td>1958.928726</td>\n      <td>8228.752520</td>\n      <td>26648.43525</td>\n      <td>2</td>\n      <td>572</td>\n      <td>1</td>\n    </tr>\n    <tr>\n      <th>2</th>\n      <td>2256073</td>\n      <td>0</td>\n      <td>3363.009259</td>\n      <td>2027.830850</td>\n      <td>65866.71246</td>\n      <td>4</td>\n      <td>602</td>\n      <td>0</td>\n    </tr>\n    <tr>\n      <th>3</th>\n      <td>4885975</td>\n      <td>0</td>\n      <td>4766.648001</td>\n      <td>2501.730397</td>\n      <td>74356.88347</td>\n      <td>5</td>\n      <td>612</td>\n      <td>0</td>\n    </tr>\n    <tr>\n      <th>4</th>\n      <td>4700614</td>\n      <td>1</td>\n      <td>1345.827718</td>\n      <td>1768.826187</td>\n      <td>23448.32631</td>\n      <td>6</td>\n      <td>631</td>\n      <td>0</td>\n    </tr>\n    <tr>\n      <th>...</th>\n      <td>...</td>\n      <td>...</td>\n      <td>...</td>\n      <td>...</td>\n      <td>...</td>\n      <td>...</td>\n      <td>...</td>\n      <td>...</td>\n    </tr>\n    <tr>\n      <th>9995</th>\n      <td>3972488</td>\n      <td>0</td>\n      <td>3033.647103</td>\n      <td>2553.733144</td>\n      <td>42691.62787</td>\n      <td>5</td>\n      <td>697</td>\n      <td>0</td>\n    </tr>\n    <tr>\n      <th>9996</th>\n      <td>6184073</td>\n      <td>1</td>\n      <td>4146.239304</td>\n      <td>5458.163525</td>\n      <td>79969.50521</td>\n      <td>8</td>\n      <td>615</td>\n      <td>0</td>\n    </tr>\n    <tr>\n      <th>9997</th>\n      <td>6694516</td>\n      <td>2</td>\n      <td>3088.223727</td>\n      <td>4813.090925</td>\n      <td>38192.67591</td>\n      <td>5</td>\n      <td>596</td>\n      <td>0</td>\n    </tr>\n    <tr>\n      <th>9998</th>\n      <td>3942961</td>\n      <td>0</td>\n      <td>3288.901666</td>\n      <td>1043.099660</td>\n      <td>50929.37206</td>\n      <td>2</td>\n      <td>647</td>\n      <td>0</td>\n    </tr>\n    <tr>\n      <th>9999</th>\n      <td>5533570</td>\n      <td>1</td>\n      <td>1917.652480</td>\n      <td>3050.248203</td>\n      <td>30611.62821</td>\n      <td>6</td>\n      <td>757</td>\n      <td>0</td>\n    </tr>\n  </tbody>\n</table>\n<p>10000 rows × 8 columns</p>\n</div>"
     },
     "execution_count": 32,
     "metadata": {},
     "output_type": "execute_result"
    }
   ],
   "source": [
    "loan"
   ],
   "metadata": {
    "collapsed": false,
    "ExecuteTime": {
     "end_time": "2023-09-27T23:03:56.297356100Z",
     "start_time": "2023-09-27T23:03:56.264443400Z"
    }
   },
   "id": "db71afc962a877e0"
  },
  {
   "cell_type": "code",
   "execution_count": 38,
   "outputs": [
    {
     "data": {
      "text/plain": "      customer_id  credit_lines_outstanding  loan_amt_outstanding  \\\n2390      4254020                         1           3033.502993   \n6803      4153925                         1           5131.838746   \n3226      7240749                         0           1599.932207   \n8630      1771847                         0           3939.469863   \n4898      6631761                         0           3857.340486   \n...           ...                       ...                   ...   \n3506      2397436                         3           3669.635064   \n99        1638898                         1           3707.461716   \n4431      3679461                         0           3286.939510   \n2212      8660570                         2           5606.289442   \n1087      8581973                         0           2815.611315   \n\n      total_debt_outstanding       income  years_employed  fico_score  \\\n2390             5459.760802  58145.40500               5         598   \n6803            10273.686330  86735.09997               4         575   \n3226             1077.329553  26191.38070               2         697   \n8630             3022.037280  59835.22980               3         625   \n4898             3290.320625  77903.38542               3         634   \n...                      ...          ...             ...         ...   \n3506            14239.425930  74670.59076               4         655   \n99               4634.160556  57597.45492               5         633   \n4431             7242.783127  64700.55843               3         613   \n2212            13883.832690  91723.19680               7         657   \n1087             3959.024790  53838.48025               5         638   \n\n      Prob of default  expected_loss fico_category  \n2390         0.000012       0.033632          Fair  \n6803         0.000004       0.011986          Poor  \n3226         0.000355       0.968765          Good  \n8630         0.000015       0.041654          Fair  \n4898         0.000006       0.017426          Fair  \n...               ...            ...           ...  \n3506         0.000358       0.978386          Fair  \n99           0.000010       0.028008          Fair  \n4431         0.000008       0.022651          Fair  \n2212         0.000006       0.015714          Fair  \n1087         0.000038       0.104739          Fair  \n\n[4000 rows x 10 columns]",
      "text/html": "<div>\n<style scoped>\n    .dataframe tbody tr th:only-of-type {\n        vertical-align: middle;\n    }\n\n    .dataframe tbody tr th {\n        vertical-align: top;\n    }\n\n    .dataframe thead th {\n        text-align: right;\n    }\n</style>\n<table border=\"1\" class=\"dataframe\">\n  <thead>\n    <tr style=\"text-align: right;\">\n      <th></th>\n      <th>customer_id</th>\n      <th>credit_lines_outstanding</th>\n      <th>loan_amt_outstanding</th>\n      <th>total_debt_outstanding</th>\n      <th>income</th>\n      <th>years_employed</th>\n      <th>fico_score</th>\n      <th>Prob of default</th>\n      <th>expected_loss</th>\n      <th>fico_category</th>\n    </tr>\n  </thead>\n  <tbody>\n    <tr>\n      <th>2390</th>\n      <td>4254020</td>\n      <td>1</td>\n      <td>3033.502993</td>\n      <td>5459.760802</td>\n      <td>58145.40500</td>\n      <td>5</td>\n      <td>598</td>\n      <td>0.000012</td>\n      <td>0.033632</td>\n      <td>Fair</td>\n    </tr>\n    <tr>\n      <th>6803</th>\n      <td>4153925</td>\n      <td>1</td>\n      <td>5131.838746</td>\n      <td>10273.686330</td>\n      <td>86735.09997</td>\n      <td>4</td>\n      <td>575</td>\n      <td>0.000004</td>\n      <td>0.011986</td>\n      <td>Poor</td>\n    </tr>\n    <tr>\n      <th>3226</th>\n      <td>7240749</td>\n      <td>0</td>\n      <td>1599.932207</td>\n      <td>1077.329553</td>\n      <td>26191.38070</td>\n      <td>2</td>\n      <td>697</td>\n      <td>0.000355</td>\n      <td>0.968765</td>\n      <td>Good</td>\n    </tr>\n    <tr>\n      <th>8630</th>\n      <td>1771847</td>\n      <td>0</td>\n      <td>3939.469863</td>\n      <td>3022.037280</td>\n      <td>59835.22980</td>\n      <td>3</td>\n      <td>625</td>\n      <td>0.000015</td>\n      <td>0.041654</td>\n      <td>Fair</td>\n    </tr>\n    <tr>\n      <th>4898</th>\n      <td>6631761</td>\n      <td>0</td>\n      <td>3857.340486</td>\n      <td>3290.320625</td>\n      <td>77903.38542</td>\n      <td>3</td>\n      <td>634</td>\n      <td>0.000006</td>\n      <td>0.017426</td>\n      <td>Fair</td>\n    </tr>\n    <tr>\n      <th>...</th>\n      <td>...</td>\n      <td>...</td>\n      <td>...</td>\n      <td>...</td>\n      <td>...</td>\n      <td>...</td>\n      <td>...</td>\n      <td>...</td>\n      <td>...</td>\n      <td>...</td>\n    </tr>\n    <tr>\n      <th>3506</th>\n      <td>2397436</td>\n      <td>3</td>\n      <td>3669.635064</td>\n      <td>14239.425930</td>\n      <td>74670.59076</td>\n      <td>4</td>\n      <td>655</td>\n      <td>0.000358</td>\n      <td>0.978386</td>\n      <td>Fair</td>\n    </tr>\n    <tr>\n      <th>99</th>\n      <td>1638898</td>\n      <td>1</td>\n      <td>3707.461716</td>\n      <td>4634.160556</td>\n      <td>57597.45492</td>\n      <td>5</td>\n      <td>633</td>\n      <td>0.000010</td>\n      <td>0.028008</td>\n      <td>Fair</td>\n    </tr>\n    <tr>\n      <th>4431</th>\n      <td>3679461</td>\n      <td>0</td>\n      <td>3286.939510</td>\n      <td>7242.783127</td>\n      <td>64700.55843</td>\n      <td>3</td>\n      <td>613</td>\n      <td>0.000008</td>\n      <td>0.022651</td>\n      <td>Fair</td>\n    </tr>\n    <tr>\n      <th>2212</th>\n      <td>8660570</td>\n      <td>2</td>\n      <td>5606.289442</td>\n      <td>13883.832690</td>\n      <td>91723.19680</td>\n      <td>7</td>\n      <td>657</td>\n      <td>0.000006</td>\n      <td>0.015714</td>\n      <td>Fair</td>\n    </tr>\n    <tr>\n      <th>1087</th>\n      <td>8581973</td>\n      <td>0</td>\n      <td>2815.611315</td>\n      <td>3959.024790</td>\n      <td>53838.48025</td>\n      <td>5</td>\n      <td>638</td>\n      <td>0.000038</td>\n      <td>0.104739</td>\n      <td>Fair</td>\n    </tr>\n  </tbody>\n</table>\n<p>4000 rows × 10 columns</p>\n</div>"
     },
     "execution_count": 38,
     "metadata": {},
     "output_type": "execute_result"
    }
   ],
   "source": [
    "Xtest['fico_category'] = Xtest['fico_score'].apply(quantizeFICO)\n",
    "Xtest"
   ],
   "metadata": {
    "collapsed": false,
    "ExecuteTime": {
     "end_time": "2023-09-28T00:00:20.411128400Z",
     "start_time": "2023-09-28T00:00:20.382206400Z"
    }
   },
   "id": "9d191018e832b966"
  },
  {
   "cell_type": "code",
   "execution_count": 39,
   "outputs": [
    {
     "data": {
      "text/plain": "      customer_id  credit_lines_outstanding  loan_amt_outstanding  \\\n7803      7291395                         1           3514.373898   \n2912      8086988                         0           4808.997289   \n8244      3914623                         1           5322.357599   \n3695      3469901                         1           3808.427293   \n2629      1337395                         5           4271.314690   \n...           ...                       ...                   ...   \n5667      4437459                         0           1712.912777   \n324       8099678                         2           3973.657805   \n3157      1720192                         0           2229.419378   \n5993      1483641                         1           5793.687316   \n5242      2007041                         0           4260.604378   \n\n      total_debt_outstanding       income  years_employed  fico_score  \\\n7803             5534.786569  68134.16335               5         663   \n2912              846.620712  83878.82050               4         704   \n8244            10089.678410  84995.64043               5         693   \n3695             6372.428393  63076.46622               7         656   \n2629            22756.281030  83475.30929               4         438   \n...                      ...          ...             ...         ...   \n5667             1209.698471  29131.62730               4         605   \n324              9369.089493  63687.96336               5         725   \n3157             3043.967766  34820.76913               4         592   \n5993             9207.734040  98548.46301               6         657   \n5242             2498.539995  78167.56477               6         740   \n\n      Prob of default  expected_loss fico_category  \n7803         0.000004       0.012883          Fair  \n2912         0.000002       0.005588          Good  \n8244         0.000002       0.007766          Good  \n3695         0.000002       0.005415          Fair  \n2629         0.999985    3162.888428          Poor  \n...               ...            ...           ...  \n5667         0.000062       0.196178          Fair  \n324          0.000007       0.023369          Good  \n3157         0.000079       0.249983          Fair  \n5993         0.000002       0.006388          Fair  \n5242         0.000003       0.009734     Very good  \n\n[6000 rows x 10 columns]",
      "text/html": "<div>\n<style scoped>\n    .dataframe tbody tr th:only-of-type {\n        vertical-align: middle;\n    }\n\n    .dataframe tbody tr th {\n        vertical-align: top;\n    }\n\n    .dataframe thead th {\n        text-align: right;\n    }\n</style>\n<table border=\"1\" class=\"dataframe\">\n  <thead>\n    <tr style=\"text-align: right;\">\n      <th></th>\n      <th>customer_id</th>\n      <th>credit_lines_outstanding</th>\n      <th>loan_amt_outstanding</th>\n      <th>total_debt_outstanding</th>\n      <th>income</th>\n      <th>years_employed</th>\n      <th>fico_score</th>\n      <th>Prob of default</th>\n      <th>expected_loss</th>\n      <th>fico_category</th>\n    </tr>\n  </thead>\n  <tbody>\n    <tr>\n      <th>7803</th>\n      <td>7291395</td>\n      <td>1</td>\n      <td>3514.373898</td>\n      <td>5534.786569</td>\n      <td>68134.16335</td>\n      <td>5</td>\n      <td>663</td>\n      <td>0.000004</td>\n      <td>0.012883</td>\n      <td>Fair</td>\n    </tr>\n    <tr>\n      <th>2912</th>\n      <td>8086988</td>\n      <td>0</td>\n      <td>4808.997289</td>\n      <td>846.620712</td>\n      <td>83878.82050</td>\n      <td>4</td>\n      <td>704</td>\n      <td>0.000002</td>\n      <td>0.005588</td>\n      <td>Good</td>\n    </tr>\n    <tr>\n      <th>8244</th>\n      <td>3914623</td>\n      <td>1</td>\n      <td>5322.357599</td>\n      <td>10089.678410</td>\n      <td>84995.64043</td>\n      <td>5</td>\n      <td>693</td>\n      <td>0.000002</td>\n      <td>0.007766</td>\n      <td>Good</td>\n    </tr>\n    <tr>\n      <th>3695</th>\n      <td>3469901</td>\n      <td>1</td>\n      <td>3808.427293</td>\n      <td>6372.428393</td>\n      <td>63076.46622</td>\n      <td>7</td>\n      <td>656</td>\n      <td>0.000002</td>\n      <td>0.005415</td>\n      <td>Fair</td>\n    </tr>\n    <tr>\n      <th>2629</th>\n      <td>1337395</td>\n      <td>5</td>\n      <td>4271.314690</td>\n      <td>22756.281030</td>\n      <td>83475.30929</td>\n      <td>4</td>\n      <td>438</td>\n      <td>0.999985</td>\n      <td>3162.888428</td>\n      <td>Poor</td>\n    </tr>\n    <tr>\n      <th>...</th>\n      <td>...</td>\n      <td>...</td>\n      <td>...</td>\n      <td>...</td>\n      <td>...</td>\n      <td>...</td>\n      <td>...</td>\n      <td>...</td>\n      <td>...</td>\n      <td>...</td>\n    </tr>\n    <tr>\n      <th>5667</th>\n      <td>4437459</td>\n      <td>0</td>\n      <td>1712.912777</td>\n      <td>1209.698471</td>\n      <td>29131.62730</td>\n      <td>4</td>\n      <td>605</td>\n      <td>0.000062</td>\n      <td>0.196178</td>\n      <td>Fair</td>\n    </tr>\n    <tr>\n      <th>324</th>\n      <td>8099678</td>\n      <td>2</td>\n      <td>3973.657805</td>\n      <td>9369.089493</td>\n      <td>63687.96336</td>\n      <td>5</td>\n      <td>725</td>\n      <td>0.000007</td>\n      <td>0.023369</td>\n      <td>Good</td>\n    </tr>\n    <tr>\n      <th>3157</th>\n      <td>1720192</td>\n      <td>0</td>\n      <td>2229.419378</td>\n      <td>3043.967766</td>\n      <td>34820.76913</td>\n      <td>4</td>\n      <td>592</td>\n      <td>0.000079</td>\n      <td>0.249983</td>\n      <td>Fair</td>\n    </tr>\n    <tr>\n      <th>5993</th>\n      <td>1483641</td>\n      <td>1</td>\n      <td>5793.687316</td>\n      <td>9207.734040</td>\n      <td>98548.46301</td>\n      <td>6</td>\n      <td>657</td>\n      <td>0.000002</td>\n      <td>0.006388</td>\n      <td>Fair</td>\n    </tr>\n    <tr>\n      <th>5242</th>\n      <td>2007041</td>\n      <td>0</td>\n      <td>4260.604378</td>\n      <td>2498.539995</td>\n      <td>78167.56477</td>\n      <td>6</td>\n      <td>740</td>\n      <td>0.000003</td>\n      <td>0.009734</td>\n      <td>Very good</td>\n    </tr>\n  </tbody>\n</table>\n<p>6000 rows × 10 columns</p>\n</div>"
     },
     "execution_count": 39,
     "metadata": {},
     "output_type": "execute_result"
    }
   ],
   "source": [
    "Xtrain['fico_category'] = Xtrain['fico_score'].apply(quantizeFICO)\n",
    "Xtrain"
   ],
   "metadata": {
    "collapsed": false,
    "ExecuteTime": {
     "end_time": "2023-09-28T00:00:47.067757500Z",
     "start_time": "2023-09-28T00:00:47.013957200Z"
    }
   },
   "id": "7dbf1fdfbe46d7ee"
  },
  {
   "cell_type": "code",
   "execution_count": 36,
   "outputs": [],
   "source": [
    "from scipy.optimize import minimize"
   ],
   "metadata": {
    "collapsed": false,
    "ExecuteTime": {
     "end_time": "2023-09-27T23:50:36.926808400Z",
     "start_time": "2023-09-27T23:50:36.892335700Z"
    }
   },
   "id": "888d268b60d03439"
  },
  {
   "cell_type": "code",
   "execution_count": 37,
   "outputs": [],
   "source": [
    "#log likelihood function\n",
    "def neg_LogLikelihood(rep, bucket):\n",
    "    mu = rep\n",
    "    sigma = bucket['Prob of default'].std()\n",
    "    logLikelihood = -0.5 * np.sum(((bucket['Prob of default'] - mu) ** 2 )/(sigma ** 2)) - len(bucket) * np.log(sigma * np.sqrt(2 * np.pi))\n",
    "    return -logLikelihood"
   ],
   "metadata": {
    "collapsed": false,
    "ExecuteTime": {
     "end_time": "2023-09-27T23:58:41.350582800Z",
     "start_time": "2023-09-27T23:58:41.314593300Z"
    }
   },
   "id": "bb9d8a46ca574e66"
  },
  {
   "cell_type": "code",
   "execution_count": 41,
   "outputs": [],
   "source": [
    "# Labels of FICO socres \n",
    "labels = ['Poor', 'Fair', 'Good', 'Very good', 'Excellent']\n",
    "repValues = {}\n",
    "for dataset in [Xtest, Xtrain]:\n",
    "    for label in labels: \n",
    "        bucket = dataset[dataset['fico_category'] == label]\n",
    "        \n",
    "        if bucket.empty:\n",
    "            continue\n",
    "        \n",
    "        result = minimize(neg_LogLikelihood, x0= np.mean(bucket['Prob of default']), args=(bucket))\n",
    "        repValues[label] = result.x[0]"
   ],
   "metadata": {
    "collapsed": false,
    "ExecuteTime": {
     "end_time": "2023-09-28T00:07:26.397452500Z",
     "start_time": "2023-09-28T00:07:26.210844300Z"
    }
   },
   "id": "18bea9194c6e5369"
  },
  {
   "cell_type": "code",
   "execution_count": 42,
   "outputs": [
    {
     "name": "stdout",
     "output_type": "stream",
     "text": [
      "{'Very good': 'A', 'Excellent': 'B', 'Good': 'C', 'Fair': 'D', 'Poor': 'E'}\n"
     ]
    }
   ],
   "source": [
    "#dynamic programming for rating\n",
    "\n",
    "ratings = ['A', 'B', 'C', 'D', 'E']\n",
    "\n",
    "sortedlabels = sorted(repValues.keys(), key=lambda x: repValues[x])\n",
    "\n",
    "ratingMap = {label: rating for label, rating in zip(sortedlabels, ratings)}\n",
    "\n",
    "print(ratingMap)"
   ],
   "metadata": {
    "collapsed": false,
    "ExecuteTime": {
     "end_time": "2023-09-28T00:10:25.846338500Z",
     "start_time": "2023-09-28T00:10:25.808440500Z"
    }
   },
   "id": "28927f9e68534413"
  },
  {
   "cell_type": "code",
   "execution_count": 45,
   "outputs": [
    {
     "name": "stdout",
     "output_type": "stream",
     "text": [
      "Poor: 0.4296\n",
      "Fair: 0.1698\n",
      "Good: 0.0747\n",
      "Very good: 0.0261\n",
      "Excellent: 0.0500\n"
     ]
    }
   ],
   "source": [
    "for label, value in repValues.items():\n",
    "    print(f\"{label}: {value:.4f}\")"
   ],
   "metadata": {
    "collapsed": false,
    "ExecuteTime": {
     "end_time": "2023-09-28T01:41:31.979247600Z",
     "start_time": "2023-09-28T01:41:31.967257700Z"
    }
   },
   "id": "6f897f9c21c1e06"
  },
  {
   "cell_type": "code",
   "execution_count": null,
   "outputs": [],
   "source": [],
   "metadata": {
    "collapsed": false
   },
   "id": "d9acbda5ff99f9b2"
  }
 ],
 "metadata": {
  "kernelspec": {
   "display_name": "Python 3 (ipykernel)",
   "language": "python",
   "name": "python3"
  },
  "language_info": {
   "codemirror_mode": {
    "name": "ipython",
    "version": 3
   },
   "file_extension": ".py",
   "mimetype": "text/x-python",
   "name": "python",
   "nbconvert_exporter": "python",
   "pygments_lexer": "ipython3",
   "version": "3.10.4"
  }
 },
 "nbformat": 4,
 "nbformat_minor": 5
}
